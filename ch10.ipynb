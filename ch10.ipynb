{
 "cells": [
  {
   "cell_type": "markdown",
   "metadata": {
    "slideshow": {
     "slide_type": "slide"
    }
   },
   "source": [
    "# 分類模型評估\n",
    "\n",
    "## 郭耀仁"
   ]
  },
  {
   "cell_type": "markdown",
   "metadata": {
    "slideshow": {
     "slide_type": "slide"
    }
   },
   "source": [
    "## K-fold 交叉驗證法\n",
    "\n",
    "- `from sklearn.cross_validation import StratifiedKFold`\n",
    "\n",
    "```python\n",
    "import numpy as np\n",
    "from sklearn.cross_validation import StratifiedKFold\n",
    "\n",
    "kfold = StratifiedKFold(y=y_train, n_folds=10, random_state = 87)\n",
    "scores = []\n",
    "for k, (train, test) in enumerate(kfold):\n",
    "    pipe_lr.fit(X_train[train], y_train[train])\n",
    "    score = pipe_lr.score(X_train[test], y_train[test])\n",
    "    scores.append(score)\n",
    "    print('Fold: %s, Class dist.: %s, Acc: %.3f' % (k+1, np.bincount(y_train[train]), score))\n",
    "\n",
    "print('CV accuracy: %.3f +/- %.3f' % (np.mean(scores), np.std(scores)))\n",
    "```"
   ]
  },
  {
   "cell_type": "markdown",
   "metadata": {
    "slideshow": {
     "slide_type": "slide"
    }
   },
   "source": [
    "## 分類模型的評估指標\n",
    "\n",
    "- 不論是準確率（Accuracy）、精確率（Precision）或召回率（Recall）都可以由混淆矩陣計算\n",
    "\n",
    "```python\n",
    "from sklearn.metrics import confusion_matrix\n",
    "\n",
    "model.fit(X_train, y_train)\n",
    "y_pred = model.predict(X_test)\n",
    "conf_mat = confusion_matrix(y_true = y_test, y_pred = y_pred)\n",
    "print(conf_mat)\n",
    "```"
   ]
  },
  {
   "cell_type": "markdown",
   "metadata": {
    "slideshow": {
     "slide_type": "subslide"
    }
   },
   "source": [
    "## 分類模型的評估指標（2）\n",
    "\n",
    "- 或者直接使用 Scikit-Learn 算評估指標\n",
    "    - `sklearn.metrics` 的 `accuracy_score()`\n",
    "    - `sklearn.metrics` 的 `precision_score()`\n",
    "    - `sklearn.metrics` 的 `recall_score()`\n",
    "\n",
    "```python\n",
    "from sklearn.metrics import accuracy_score, precision_score, recall_score\n",
    "\n",
    "print('Accuracy: %.3f' % accuracy_score(y_true = y_test, y_pred = y_pred))\n",
    "print('Precision: %.3f' % precision_score(y_true = y_test, y_pred = y_pred))\n",
    "print('Recall: %.3f' % recall_score(y_true = y_test, y_pred = y_pred))\n",
    "```"
   ]
  },
  {
   "cell_type": "markdown",
   "metadata": {
    "slideshow": {
     "slide_type": "slide"
    }
   },
   "source": [
    "## 二元分類模型的評估指標\n",
    "\n",
    "- `sklearn.metrics` 的 `roc_auc_score()`\n",
    "\n",
    "```python\n",
    "from sklearn.metrics import roc_auc_score\n",
    "\n",
    "print('ROC AUC: %.3f' % roc_auc_score(y_true = y_test, y_score = y_pred))\n",
    "```"
   ]
  },
  {
   "cell_type": "markdown",
   "metadata": {
    "slideshow": {
     "slide_type": "slide"
    }
   },
   "source": [
    "## 多元分類模型的評估指標\n",
    "\n",
    "- `sklearn.metrics` 的 `make_scorer()`\n",
    "\n",
    "```python\n",
    "from sklearn.metrics import make_scorer\n",
    "\n",
    "pre_scorer = make_scorer(score_func=precision_score, pos_label=1, greater_is_better=True, average='micro')\n",
    "```"
   ]
  }
 ],
 "metadata": {
  "celltoolbar": "Slideshow",
  "kernelspec": {
   "display_name": "Python 3",
   "language": "python",
   "name": "python3"
  },
  "language_info": {
   "codemirror_mode": {
    "name": "ipython",
    "version": 3
   },
   "file_extension": ".py",
   "mimetype": "text/x-python",
   "name": "python",
   "nbconvert_exporter": "python",
   "pygments_lexer": "ipython3",
   "version": "3.5.2"
  }
 },
 "nbformat": 4,
 "nbformat_minor": 1
}
