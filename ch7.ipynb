{
 "cells": [
  {
   "cell_type": "markdown",
   "metadata": {
    "slideshow": {
     "slide_type": "slide"
    }
   },
   "source": [
    "# 繪製 Decision Boundary Plot\n",
    "\n",
    "## 郭耀仁"
   ]
  },
  {
   "cell_type": "markdown",
   "metadata": {
    "slideshow": {
     "slide_type": "slide"
    }
   },
   "source": [
    "## 更快捷的指派\n",
    "\n",
    "```python\n",
    "a, b = 8, 7\n",
    "print(a)\n",
    "print(b)\n",
    "\n",
    "a, b = b, a\n",
    "print(\"重新指派後：\")\n",
    "print(a)\n",
    "print(b)\n",
    "```"
   ]
  },
  {
   "cell_type": "markdown",
   "metadata": {
    "slideshow": {
     "slide_type": "slide"
    }
   },
   "source": [
    "## `meshgrid()`\n",
    "\n",
    "- `numpy.meshgrid()`\n",
    "- 將 **numpy 陣列**分別依兩軸的方向複製產出網格\n",
    "\n",
    "```python\n",
    "import numpy as np\n",
    "import matplotlib.pyplot as plt\n",
    "\n",
    "x = np.arange(start = -5, stop = 5, step = 0.1)\n",
    "y = np.arange(start = -5, stop = 5, step = 0.1)\n",
    "xx, yy = np.meshgrid(x, y)\n",
    "print(x)\n",
    "print(xx.shape)\n",
    "print(xx)\n",
    "print(y)\n",
    "print(yy.shape)\n",
    "print(yy)\n",
    "```"
   ]
  },
  {
   "cell_type": "markdown",
   "metadata": {
    "slideshow": {
     "slide_type": "subslide"
    }
   },
   "source": [
    "## `vstack()` 與 `hstack()`\n",
    "\n",
    "- `np.vstack()`\n",
    "- `np.hstack()`\n",
    "- 垂直合併與水平合併 **numpy 陣列**\n",
    "\n",
    "```python\n",
    "import numpy as np\n",
    "\n",
    "x = np.arange(10)\n",
    "y = np.arange(10)\n",
    "x_y = np.vstack((x, y))\n",
    "print(x_y)\n",
    "x_y = np.hstack((x, y))\n",
    "print(x_y)\n",
    "```"
   ]
  },
  {
   "cell_type": "markdown",
   "metadata": {
    "slideshow": {
     "slide_type": "subslide"
    }
   },
   "source": [
    "## `ravel()`\n",
    "\n",
    "- 轉換 **numpy 陣列**為一維\n",
    "\n",
    "```python\n",
    "import numpy as np\n",
    "\n",
    "my_mat = np.array(\n",
    "    [[1, 2, 3],\n",
    "     [4, 5, 6]]\n",
    "    )\n",
    "my_array = my_mat.ravel()\n",
    "print(my_array)\n",
    "```"
   ]
  },
  {
   "cell_type": "markdown",
   "metadata": {
    "slideshow": {
     "slide_type": "slide"
    }
   },
   "source": [
    "## `reshape()`\n",
    "\n",
    "- 轉換 **numpy 陣列**為指定的維度\n",
    "\n",
    "```python\n",
    "import numpy as np\n",
    "\n",
    "my_array = np.arange(1, 7)\n",
    "print(my_array.shape)\n",
    "my_mat = my_array.reshape((2, 3))\n",
    "print(my_mat.shape)\n",
    "print(my_mat)\n",
    "```"
   ]
  },
  {
   "cell_type": "markdown",
   "metadata": {
    "slideshow": {
     "slide_type": "slide"
    }
   },
   "source": [
    "## `contourf()`\n",
    "\n",
    "- `contour()` 是沒有填色的等高線圖\n",
    "- `contourf()` 是有填色的等高線圖\n",
    "\n",
    "```python\n",
    "import numpy as np\n",
    "import matplotlib.pyplot as plt\n",
    "\n",
    "x = np.arange(start = -3.0, stop = 6.0, step = 3)\n",
    "y = np.arange(start = -3.0, stop = 5.0, step = 2)\n",
    "xx, yy = np.meshgrid(x, y)\n",
    "z = np.sqrt(xx**2 + yy**2)\n",
    "plt.contourf(xx, yy, z) # 亦可試試 contour()\n",
    "plt.show()\n",
    "```"
   ]
  },
  {
   "cell_type": "markdown",
   "metadata": {
    "slideshow": {
     "slide_type": "slide"
    }
   },
   "source": [
    "## `enumerate()` 與 `zip()`\n",
    "\n",
    "- 普通的迴圈\n",
    "\n",
    "```python\n",
    "weekdays = [\"Monday\", \"Tuesday\", \"Wednesday\", \"Thursday\", \"Friday\"]\n",
    "\n",
    "for i in range(len(weekdays)):\n",
    "    print(\"%i: %s\" %(i, weekdays[i]))\n",
    "```"
   ]
  },
  {
   "cell_type": "markdown",
   "metadata": {
    "slideshow": {
     "slide_type": "subslide"
    }
   },
   "source": [
    "## `enumerate()` 與 `zip()`（2）\n",
    "\n",
    "- 使用 `enumerate()`\n",
    "\n",
    "```python\n",
    "weekdays = [\"Monday\", \"Tuesday\", \"Wednesday\", \"Thursday\", \"Friday\"]\n",
    "\n",
    "for idx, weekday in enumerate(weekdays):\n",
    "    print(\"%i: %s\" %(idx, weekday))\n",
    "```"
   ]
  },
  {
   "cell_type": "markdown",
   "metadata": {
    "slideshow": {
     "slide_type": "subslide"
    }
   },
   "source": [
    "## `enumerate()` 與 `zip()`（3）\n",
    "\n",
    "- 使用 `zip()`\n",
    "\n",
    "```python\n",
    "weekdays_ch = [\"星期一\", \"星期二\", \"星期三\", \"星期四\", \"星期五\"]\n",
    "weekdays = [\"Monday\", \"Tuesday\", \"Wednesday\", \"Thursday\", \"Friday\"]\n",
    "\n",
    "for weekday_ch, weekday in zip(weekdays_ch, weekdays):\n",
    "    print(\"%s: %s\" %(weekday_ch, weekday))\n",
    "```"
   ]
  },
  {
   "cell_type": "markdown",
   "metadata": {
    "slideshow": {
     "slide_type": "slide"
    }
   },
   "source": [
    "## 繪圖\n",
    "\n",
    "- 先準備資料點\n",
    "\n",
    "```python\n",
    "X_combined_std = np.vstack((X_train_std, X_test_std))\n",
    "y_combined = np.hstack((y_train, y_test))\n",
    "\n",
    "markers = ('s', 'x', 'o')\n",
    "colors = ('red', 'blue', 'lightgreen')\n",
    "cmap = ListedColormap(colors[:len(np.unique(y))])\n",
    "x1_min, x1_max = X_combined_std[:, 0].min() - 1, X_combined_std[:, 0].max() + 1\n",
    "x2_min, x2_max = X_combined_std[:, 1].min() - 1, X_combined_std[:, 1].max() + 1\n",
    "xx1, xx2 = np.meshgrid(np.arange(x1_min, x1_max, .02), np.arange(x2_min, x2_max, .02))\n",
    "Z = classifier.predict(np.array([xx1.ravel(), xx2.ravel()]).T)\n",
    "Z = Z.reshape(xx1.shape)\n",
    "```"
   ]
  },
  {
   "cell_type": "markdown",
   "metadata": {
    "slideshow": {
     "slide_type": "subslide"
    }
   },
   "source": [
    "## 繪圖（2）\n",
    "\n",
    "- 再畫等高線圖\n",
    "\n",
    "```python\n",
    "plt.contourf(xx1, xx2, Z, alpha = 0.4, cmap = cmap)\n",
    "plt.show() \n",
    "```"
   ]
  },
  {
   "cell_type": "markdown",
   "metadata": {
    "slideshow": {
     "slide_type": "subslide"
    }
   },
   "source": [
    "## 繪圖（3）\n",
    "\n",
    "- 最後把散佈點放上去\n",
    "\n",
    "```python\n",
    "plt.xlim(xx1.min(), xx1.max())\n",
    "plt.ylim(xx2.min(), xx2.max())\n",
    "for idx, cl in enumerate(np.unique(y)):\n",
    "    plt.scatter(x = X_combined_std[y == cl, 0], y = X_combined_std[y == cl, 1], alpha = 0.8, c = cmap[idx], marker = markers[idx], label = cl)\n",
    "plt.show()\n",
    "```"
   ]
  }
 ],
 "metadata": {
  "celltoolbar": "Slideshow",
  "kernelspec": {
   "display_name": "Python 3",
   "language": "python",
   "name": "python3"
  },
  "language_info": {
   "codemirror_mode": {
    "name": "ipython",
    "version": 3
   },
   "file_extension": ".py",
   "mimetype": "text/x-python",
   "name": "python",
   "nbconvert_exporter": "python",
   "pygments_lexer": "ipython3",
   "version": "3.5.2"
  }
 },
 "nbformat": 4,
 "nbformat_minor": 1
}
