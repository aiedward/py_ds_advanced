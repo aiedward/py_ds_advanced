{
 "cells": [
  {
   "cell_type": "markdown",
   "metadata": {
    "slideshow": {
     "slide_type": "slide"
    }
   },
   "source": [
    "# 課程設計理念\n",
    "\n",
    "## 郭耀仁"
   ]
  },
  {
   "cell_type": "markdown",
   "metadata": {
    "slideshow": {
     "slide_type": "slide"
    }
   },
   "source": [
    "## 目標\n",
    "\n",
    "- 讓學員會使用 `Python` 的 `Scikit-learn` 機器學習套件\n",
    "- 讓學員能夠上傳 **Kaggle** 的分類競賽資料"
   ]
  },
  {
   "cell_type": "markdown",
   "metadata": {
    "slideshow": {
     "slide_type": "slide"
    }
   },
   "source": [
    "## 取捨\n",
    "\n",
    "- `Scikit-Learn` 有六大功能模組\n",
    "- 與其六大功能模組都蜻蜓點水\n",
    "- 不如將重點放在參加 **Kaggle** 分類模型競賽所需的能力\n",
    "- 捨棄迴歸，分群與降維模組"
   ]
  },
  {
   "cell_type": "markdown",
   "metadata": {
    "slideshow": {
     "slide_type": "slide"
    }
   },
   "source": [
    "## 競賽能力盤點\n",
    "\n",
    "- 基本能力：\n",
    "    - 建立開發環境\n",
    "    - `NumPy` 套件的 **ndarray**\n",
    "    - `Pandas` 套件的 **DataFrame**\n",
    "    - 繪製 **Decision Region Plot**\n",
    "- `Scikit-Learn` 模組：\n",
    "    - 預處理（Pre-processing）\n",
    "    - 分類（Classification）\n",
    "    - 模型評估（Model Selection）"
   ]
  },
  {
   "cell_type": "markdown",
   "metadata": {
    "slideshow": {
     "slide_type": "slide"
    }
   },
   "source": [
    "## 流程規劃\n",
    "\n",
    "- 課前（或前 30 分鐘）就要順利執行以下程式：\n",
    "\n",
    "```python\n",
    "import numpy as np\n",
    "import pandas as pd\n",
    "import matplotlib\n",
    "import sklearn\n",
    "\n",
    "print(np.__version__)\n",
    "print(pd.__version__)\n",
    "print(matplotlib.__version__)\n",
    "print(sklearn.__version__)\n",
    "```"
   ]
  },
  {
   "cell_type": "markdown",
   "metadata": {
    "slideshow": {
     "slide_type": "subslide"
    }
   },
   "source": [
    "## 流程規劃（2）\n",
    "\n",
    "- 複習 `NumPy` 的 **ndarray**\n",
    "- 複習 `Pandas` 的 **DataFrame**\n",
    "- `Scikit-Learn` 快速實作\n",
    "    - 學員必定會對 Decision Region Plot 的繪製感到困難！\n",
    "\n",
    "![Decision Region Plot](http://scikit-learn.org/stable/_images/sphx_glr_plot_iris_logistic_thumb.png)"
   ]
  },
  {
   "cell_type": "markdown",
   "metadata": {
    "slideshow": {
     "slide_type": "subslide"
    }
   },
   "source": [
    "## 流程規劃（3）\n",
    "\n",
    "- 繪製 Decision Region Plot\n",
    "- 預處理（Pre-processing）\n",
    "- 分類（Classification）\n",
    "- 第一次上傳\n",
    "    - 學員必定會對排名不滿意！\n",
    "\n",
    "![submission](https://storage.googleapis.com/py_ds_basic/kaggle_submission.png)"
   ]
  },
  {
   "cell_type": "markdown",
   "metadata": {
    "slideshow": {
     "slide_type": "subslide"
    }
   },
   "source": [
    "## 流程規劃（3）\n",
    "\n",
    "- 模型評估（Model Selection）\n",
    "    - 透過 **K-Fold Cross-Validation** 與 **Grid Search**\n",
    "- 整體學習（Ensemble Learning）\n",
    "    - 透過 **Voting Classifier** 或 **Adaptive Boosting**\n",
    "- 第二次上傳\n",
    "    - 學員對排名的進步感到滿意！"
   ]
  },
  {
   "cell_type": "markdown",
   "metadata": {
    "slideshow": {
     "slide_type": "slide"
    }
   },
   "source": [
    "## 參考連結與書目\n",
    "\n",
    "- [Numpy Quickstart Tutorial](https://docs.scipy.org/doc/numpy-dev/user/quickstart.html)\n",
    "- [10 Minutes to pandas](http://pandas.pydata.org/pandas-docs/stable/10min.html)\n",
    "- [Scikit-Learn](http://scikit-learn.org/stable/)\n",
    "- [Python Machine Learning](https://www.amazon.com/Python-Machine-Learning-Sebastian-Raschka-ebook/dp/B00YSILNL0)"
   ]
  }
 ],
 "metadata": {
  "celltoolbar": "Slideshow",
  "kernelspec": {
   "display_name": "Python 3",
   "language": "python",
   "name": "python3"
  },
  "language_info": {
   "codemirror_mode": {
    "name": "ipython",
    "version": 3
   },
   "file_extension": ".py",
   "mimetype": "text/x-python",
   "name": "python",
   "nbconvert_exporter": "python",
   "pygments_lexer": "ipython3",
   "version": "3.5.2"
  }
 },
 "nbformat": 4,
 "nbformat_minor": 1
}
