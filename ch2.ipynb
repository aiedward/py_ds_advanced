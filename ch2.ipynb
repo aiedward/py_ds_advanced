{
 "cells": [
  {
   "cell_type": "markdown",
   "metadata": {
    "slideshow": {
     "slide_type": "slide"
    }
   },
   "source": [
    "# Numpy 複習\n",
    "\n",
    "## 郭耀仁"
   ]
  },
  {
   "cell_type": "markdown",
   "metadata": {
    "slideshow": {
     "slide_type": "slide"
    }
   },
   "source": [
    "## Element-wise 運算\n",
    "\n",
    "- 內建 list 資料集合不支援 element-wise 運算\n",
    "\n",
    "```python\n",
    "my_list = list(range(10))\n",
    "my_list * 2\n",
    "```"
   ]
  },
  {
   "cell_type": "markdown",
   "metadata": {
    "slideshow": {
     "slide_type": "subslide"
    }
   },
   "source": [
    "## Element-wise 運算（2）\n",
    "\n",
    "- `numpy` 套件的 `ndarray` 支援 element-wise 運算\n",
    "\n",
    "```python\n",
    "import numpy as np\n",
    "\n",
    "my_list = list(range(10))\n",
    "my_ndarray = np.array(my_list)\n",
    "my_ndarray * 2\n",
    "```"
   ]
  },
  {
   "cell_type": "markdown",
   "metadata": {
    "slideshow": {
     "slide_type": "slide"
    }
   },
   "source": [
    "## 如何建立 ndarray\n",
    "\n",
    "- 使用 `numpy` 的 `array()` 方法\n",
    "- `ndim` 屬性\n",
    "- `shape` 屬性\n",
    "\n",
    "```python\n",
    "import numpy as np\n",
    "\n",
    "my_list = list(range(5))\n",
    "my_ndarray = np.array(my_list)\n",
    "print(\"type: \", type(my_ndarray))\n",
    "print(\"dimension: \", my_ndarray.ndim)\n",
    "print(\"shape: \", my_ndarray.shape)\n",
    "```"
   ]
  },
  {
   "cell_type": "markdown",
   "metadata": {
    "slideshow": {
     "slide_type": "subslide"
    }
   },
   "source": [
    "## 如何建立 ndarray（2）\n",
    "\n",
    "```python\n",
    "import numpy as np\n",
    "\n",
    "my_array = [\n",
    "    [1, 2, 3, 4],\n",
    "    [5, 6, 7, 8]\n",
    "]\n",
    "my_ndarray = np.array(my_array)\n",
    "print(\"type: \", type(my_ndarray))\n",
    "print(\"dimension: \", my_ndarray.ndim)\n",
    "print(\"shape: \", my_ndarray.shape)\n",
    "```"
   ]
  },
  {
   "cell_type": "markdown",
   "metadata": {
    "slideshow": {
     "slide_type": "subslide"
    }
   },
   "source": [
    "## 如何建立 ndarray（3）\n",
    "\n",
    "- `numpy` 的 `empty()` 方法可以用來建立元素尚未初始化的 ndarray\n",
    "- `numpy` 的 `zeros()` 方法可以用來建立元素都是 0 的 ndarray\n",
    "- `numpy` 的 `ones()` 方法可以用來建立元素都是 1 的 ndarray\n",
    "\n",
    "```python\n",
    "import numpy as np\n",
    "\n",
    "emp_array = np.empty(5)\n",
    "zeros_array = np.zeros(5)\n",
    "ones_array = np.ones(5)\n",
    "\n",
    "print(emp_array)\n",
    "print(zeros_array)\n",
    "print(ones_array)\n",
    "```"
   ]
  },
  {
   "cell_type": "markdown",
   "metadata": {
    "slideshow": {
     "slide_type": "subslide"
    }
   },
   "source": [
    "## 如何建立 ndarray（4）\n",
    "\n",
    "- `numpy` 的 `arange()` 方法類似內建的 `range()` 函數\n",
    "- `numpy` 的 `random.randn()` 方法\n",
    "\n",
    "```python\n",
    "import numpy as np\n",
    "\n",
    "my_array = np.arange(10)\n",
    "print(my_array)\n",
    "\n",
    "my_array = np.arange(start = 0, stop = 10.5, step = 0.5)\n",
    "print(my_array)\n",
    "\n",
    "my_array = np.random.randn(10)\n",
    "print(my_array)\n",
    "```"
   ]
  },
  {
   "cell_type": "markdown",
   "metadata": {
    "slideshow": {
     "slide_type": "slide"
    }
   },
   "source": [
    "## 索引值\n",
    "\n",
    "```python\n",
    "import numpy as np\n",
    "\n",
    "my_array = np.arange(10)\n",
    "print(my_array[0])\n",
    "print(my_array[0:4])\n",
    "print(my_array[5:])\n",
    "```"
   ]
  },
  {
   "cell_type": "markdown",
   "metadata": {
    "slideshow": {
     "slide_type": "subslide"
    }
   },
   "source": [
    "## 索引值（2）\n",
    "\n",
    "```python\n",
    "import numpy as np\n",
    "\n",
    "my_array = np.arange(1, 10)\n",
    "my_2d_arr = my_array.reshape(3, 3)\n",
    "print(my_2d_arr)\n",
    "print(my_2d_arr[0][2])\n",
    "print(my_2d_arr[0, 2])\n",
    "```"
   ]
  },
  {
   "cell_type": "markdown",
   "metadata": {
    "slideshow": {
     "slide_type": "subslide"
    }
   },
   "source": [
    "## 索引值（3）\n",
    "\n",
    "```python\n",
    "import numpy as np\n",
    "\n",
    "my_array = np.arange(1, 13)\n",
    "my_3d_arr = my_array.reshape(2, 2, 3)\n",
    "print(my_3d_arr)\n",
    "print(\"---\")\n",
    "print(my_3d_arr[0])\n",
    "print(\"---\")\n",
    "print(my_3d_arr[1])\n",
    "print(\"---\")\n",
    "print(my_3d_arr[0][0, 2])\n",
    "```"
   ]
  },
  {
   "cell_type": "markdown",
   "metadata": {
    "slideshow": {
     "slide_type": "slide"
    }
   },
   "source": [
    "## 布林篩選\n",
    "\n",
    "```python\n",
    "my_array = np.arange(10)\n",
    "boolean_filter = my_array >= 6\n",
    "print(boolean_filter)\n",
    "print(my_array[boolean_filter])\n",
    "```"
   ]
  },
  {
   "cell_type": "markdown",
   "metadata": {
    "slideshow": {
     "slide_type": "subslide"
    }
   },
   "source": [
    "## 布林篩選（2）\n",
    "\n",
    "- `numpy` 的 `where()` 方法\n",
    "\n",
    "```python\n",
    "import numpy as np\n",
    "\n",
    "my_array = np.arange(10)\n",
    "my_array = np.where(my_array >= 6, my_array * 10, my_array)\n",
    "print(my_array)\n",
    "```"
   ]
  },
  {
   "cell_type": "markdown",
   "metadata": {
    "slideshow": {
     "slide_type": "slide"
    }
   },
   "source": [
    "## 排序與相異值\n",
    "\n",
    "- `sort()` 方法\n",
    "- `numpy` 的 `unique()` 方法\n",
    "\n",
    "```python\n",
    "import numpy as np\n",
    "\n",
    "my_array = np.randn(5)\n",
    "print(my_array.sort())\n",
    "\n",
    "my_array = np.array([\"Friday\", \"Friday\", \"Saturday\", \"Saturday\", \"Sunday\"])\n",
    "np.unique(my_array)\n",
    "```"
   ]
  }
 ],
 "metadata": {
  "celltoolbar": "Slideshow",
  "kernelspec": {
   "display_name": "Python 3",
   "language": "python",
   "name": "python3"
  },
  "language_info": {
   "codemirror_mode": {
    "name": "ipython",
    "version": 3
   },
   "file_extension": ".py",
   "mimetype": "text/x-python",
   "name": "python",
   "nbconvert_exporter": "python",
   "pygments_lexer": "ipython3",
   "version": "3.5.2"
  }
 },
 "nbformat": 4,
 "nbformat_minor": 1
}
