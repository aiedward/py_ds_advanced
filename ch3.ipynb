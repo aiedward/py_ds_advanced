{
 "cells": [
  {
   "cell_type": "markdown",
   "metadata": {
    "slideshow": {
     "slide_type": "slide"
    }
   },
   "source": [
    "# Pandas 複習\n",
    "\n",
    "## 郭耀仁"
   ]
  },
  {
   "cell_type": "markdown",
   "metadata": {
    "slideshow": {
     "slide_type": "slide"
    }
   },
   "source": [
    "## 兩種主要資料結構\n",
    "\n",
    "- Series\n",
    "- Data Frame"
   ]
  },
  {
   "cell_type": "markdown",
   "metadata": {
    "slideshow": {
     "slide_type": "slide"
    }
   },
   "source": [
    "## Series\n",
    "\n",
    "- 有**索引值**的陣列\n",
    "\n",
    "```python\n",
    "import pandas as pd\n",
    "\n",
    "my_series = pd.Series([\"Sunday\", \"Monday\", \"Tuesday\", \"Wednesday\", \"Thursday\", \"Friday\", \"Saturday\"])\n",
    "print(my_series)\n",
    "print(my_series[0])\n",
    "```"
   ]
  },
  {
   "cell_type": "markdown",
   "metadata": {
    "slideshow": {
     "slide_type": "subslide"
    }
   },
   "source": [
    "## Series（2）\n",
    "\n",
    "- 具有 `values` 與 `index` 屬性\n",
    "\n",
    "```python\n",
    "import pandas as pd\n",
    "\n",
    "my_series = pd.Series([\"Sunday\", \"Monday\", \"Tuesday\", \"Wednesday\", \"Thursday\", \"Friday\", \"Saturday\"])\n",
    "print(my_series.values)\n",
    "print(my_series.index)\n",
    "print(\"---\")\n",
    "my_series.index = [\"a\", \"b\", \"c\", \"d\", \"e\", \"f\", \"g\"]\n",
    "print(my_series.index)\n",
    "```"
   ]
  },
  {
   "cell_type": "markdown",
   "metadata": {
    "slideshow": {
     "slide_type": "subslide"
    }
   },
   "source": [
    "## Series（3）\n",
    "\n",
    "- 具有 element-wise 運算的特性\n",
    "\n",
    "```python\n",
    "import pandas as pd\n",
    "\n",
    "my_series = pd.Series([0, 1, 2, 3])\n",
    "print(my_series * my_series)\n",
    "print(my_series + my_series)\n",
    "```"
   ]
  },
  {
   "cell_type": "markdown",
   "metadata": {
    "slideshow": {
     "slide_type": "slide"
    }
   },
   "source": [
    "## DataFrame\n",
    "\n",
    "- 由 R 語言啟發\n",
    "- 將 **dict** 結構轉換成 DataFrame\n",
    "\n",
    "```python\n",
    "import pandas as pd\n",
    "\n",
    "name = [\"Monkey D. Luffy\", \"Roronoa Zoro\", \"Nami\", \"Usopp\", \"Vinsmoke Sanji\", \"Tony Tony Chopper\", \"Nico Robin\", \"Franky\", \"Brook\"]\n",
    "age = [19, 21, 20, 19, 21, 17, 30, 36, 90]\n",
    "\n",
    "straw_hat_dict = {\"name\": name,\n",
    "                  \"age\": age\n",
    "}\n",
    "\n",
    "straw_hat_df = pd.DataFrame(straw_hat_dict, columns = [\"name\", \"age\"])\n",
    "print(type(straw_hat_df))\n",
    "straw_hat_df\n",
    "```"
   ]
  },
  {
   "cell_type": "markdown",
   "metadata": {
    "slideshow": {
     "slide_type": "subslide"
    }
   },
   "source": [
    "## DataFrame（2）\n",
    "\n",
    "- 使用 `['column_name']` 選擇變數\n",
    "- 使用 `.ix[index]` 選擇觀測值\n",
    "\n",
    "```python\n",
    "import pandas as pd\n",
    "\n",
    "name = [\"Monkey D. Luffy\", \"Roronoa Zoro\", \"Nami\", \"Usopp\", \"Vinsmoke Sanji\", \"Tony Tony Chopper\", \"Nico Robin\", \"Franky\", \"Brook\"]\n",
    "age = [19, 21, 20, 19, 21, 17, 30, 36, 90]\n",
    "\n",
    "straw_hat_dict = {\"name\": name,\n",
    "                  \"age\": age\n",
    "}\n",
    "\n",
    "straw_hat_df = pd.DataFrame(straw_hat_dict, columns = [\"name\", \"age\"])\n",
    "print(straw_hat_df['age'])\n",
    "print(straw_hat_df.ix[0])\n",
    "```"
   ]
  },
  {
   "cell_type": "markdown",
   "metadata": {
    "slideshow": {
     "slide_type": "subslide"
    }
   },
   "source": [
    "## DataFrame（3）\n",
    "\n",
    "- 將 Series 指派為一個新增變數\n",
    "- 使用 `.drop()` 可以刪除變數\n",
    "\n",
    "```python\n",
    "import pandas as pd\n",
    "\n",
    "name = [\"Monkey D. Luffy\", \"Roronoa Zoro\", \"Nami\", \"Usopp\", \"Vinsmoke Sanji\", \"Tony Tony Chopper\", \"Nico Robin\", \"Franky\", \"Brook\"]\n",
    "age = [19, 21, 20, 19, 21, 17, 30, 36, 90]\n",
    "\n",
    "straw_hat_dict = {\"name\": name,\n",
    "                  \"age\": age\n",
    "}\n",
    "\n",
    "straw_hat_df = pd.DataFrame(straw_hat_dict, columns = [\"name\", \"age\"])\n",
    "\n",
    "is_male = [True, True, False, True, True, True, False, True, True]\n",
    "straw_hat_df[\"is_male\"] = pd.Series(is_male)\n",
    "print(straw_hat_df)\n",
    "straw_hat_df.drop(\"is_male\", axis = 1)\n",
    "print(\"刪除 is_male 後：\")\n",
    "print(straw_hat_df)\n",
    "```"
   ]
  },
  {
   "cell_type": "markdown",
   "metadata": {
    "slideshow": {
     "slide_type": "subslide"
    }
   },
   "source": [
    "## DataFrame（4）\n",
    "\n",
    "- 利用 `.ix[]` 可以同時針對觀測值與變數做選擇\n",
    "\n",
    "```python\n",
    "import pandas as pd\n",
    "\n",
    "name = [\"Monkey D. Luffy\", \"Roronoa Zoro\", \"Nami\", \"Usopp\", \"Vinsmoke Sanji\", \"Tony Tony Chopper\", \"Nico Robin\", \"Franky\", \"Brook\"]\n",
    "age = [19, 21, 20, 19, 21, 17, 30, 36, 90]\n",
    "is_male = [True, True, False, True, True, True, False, True, True]\n",
    "\n",
    "straw_hat_dict = {\"name\": name,\n",
    "                  \"age\": age,\n",
    "                  \"is_male\": is_male\n",
    "}\n",
    "\n",
    "straw_hat_df = pd.DataFrame(straw_hat_dict, columns = [\"name\", \"age\", \"is_male\"])\n",
    "print(straw_hat_df.ix[0:2, [\"name\", \"age\"]])\n",
    "```"
   ]
  },
  {
   "cell_type": "markdown",
   "metadata": {
    "slideshow": {
     "slide_type": "subslide"
    }
   },
   "source": [
    "## DataFrame（5）\n",
    "\n",
    "- 利用布林判斷進行篩選\n",
    "\n",
    "```python\n",
    "import pandas as pd\n",
    "\n",
    "name = [\"Monkey D. Luffy\", \"Roronoa Zoro\", \"Nami\", \"Usopp\", \"Vinsmoke Sanji\", \"Tony Tony Chopper\", \"Nico Robin\", \"Franky\", \"Brook\"]\n",
    "age = [19, 21, 20, 19, 21, 17, 30, 36, 90]\n",
    "is_male = [True, True, False, True, True, True, False, True, True]\n",
    "\n",
    "straw_hat_dict = {\"name\": name,\n",
    "                  \"age\": age,\n",
    "                  \"is_male\": is_male\n",
    "}\n",
    "\n",
    "straw_hat_df = pd.DataFrame(straw_hat_dict, columns = [\"name\", \"age\", \"is_male\"])\n",
    "gender_filter = straw_hat_df[\"is_male\"] == False\n",
    "female_crew_df = straw_hat_df[gender_filter]\n",
    "female_crew_df\n",
    "```"
   ]
  },
  {
   "cell_type": "markdown",
   "metadata": {
    "slideshow": {
     "slide_type": "subslide"
    }
   },
   "source": [
    "## DataFrame（6）\n",
    "\n",
    "- 連結兩個或更多的布林判斷\n",
    "\n",
    "```python\n",
    "import pandas as pd\n",
    "\n",
    "name = [\"Monkey D. Luffy\", \"Roronoa Zoro\", \"Nami\", \"Usopp\", \"Vinsmoke Sanji\", \"Tony Tony Chopper\", \"Nico Robin\", \"Franky\", \"Brook\"]\n",
    "age = [19, 21, 20, 19, 21, 17, 30, 36, 90]\n",
    "is_male = [True, True, False, True, True, True, False, True, True]\n",
    "\n",
    "straw_hat_dict = {\"name\": name,\n",
    "                  \"age\": age,\n",
    "                  \"is_male\": is_male\n",
    "}\n",
    "\n",
    "straw_hat_df = pd.DataFrame(straw_hat_dict, columns = [\"name\", \"age\", \"is_male\"])\n",
    "male_filter = straw_hat_df[\"is_male\"] == True\n",
    "young_filter = straw_hat_df[\"age\"] < 30\n",
    "young_male_df = straw_hat_df[male_filter & young_filter]\n",
    "young_male_df\n",
    "```"
   ]
  }
 ],
 "metadata": {
  "celltoolbar": "Slideshow",
  "kernelspec": {
   "display_name": "Python 3",
   "language": "python",
   "name": "python3"
  },
  "language_info": {
   "codemirror_mode": {
    "name": "ipython",
    "version": 3
   },
   "file_extension": ".py",
   "mimetype": "text/x-python",
   "name": "python",
   "nbconvert_exporter": "python",
   "pygments_lexer": "ipython3",
   "version": "3.5.2"
  }
 },
 "nbformat": 4,
 "nbformat_minor": 1
}
