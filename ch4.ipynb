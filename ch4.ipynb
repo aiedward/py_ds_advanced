{
 "cells": [
  {
   "cell_type": "markdown",
   "metadata": {
    "slideshow": {
     "slide_type": "slide"
    }
   },
   "source": [
    "# DataFrame 實用技巧\n",
    "\n",
    "## 郭耀仁"
   ]
  },
  {
   "cell_type": "markdown",
   "metadata": {
    "slideshow": {
     "slide_type": "slide"
    }
   },
   "source": [
    "## 實用技巧\n",
    "\n",
    "- 處理遺漏值\n",
    "- 讀取外部資料\n",
    "- 資料角力（Data Wrangling）"
   ]
  },
  {
   "cell_type": "markdown",
   "metadata": {
    "slideshow": {
     "slide_type": "slide"
    }
   },
   "source": [
    "## 處理遺漏值\n",
    "\n",
    "- `.dropna()` 方法將有遺漏的觀測值刪除\n",
    "\n",
    "```python\n",
    "import numpy as np\n",
    "import pandas as pd\n",
    "\n",
    "dict_w_na = {\n",
    "    \"name\": [\"Monkey D. Luffy\", \"Roronoa Zoro\", \"Nami\"],\n",
    "    \"age\": [19, 21, np.nan]\n",
    "}\n",
    "df_w_na = pd.DataFrame(dict_w_na, columns = [\"name\", \"age\"])\n",
    "print(df_w_na)\n",
    "df_wo_na = df_w_na.dropna()\n",
    "print(\"---\")\n",
    "print(df_wo_na)\n",
    "```"
   ]
  },
  {
   "cell_type": "markdown",
   "metadata": {
    "slideshow": {
     "slide_type": "subslide"
    }
   },
   "source": [
    "## 處理遺漏值（2）\n",
    "\n",
    "- `.fillna()` 方法將有遺漏的觀測值填補\n",
    "\n",
    "```python\n",
    "import numpy as np\n",
    "import pandas as pd\n",
    "\n",
    "dict_w_na = {\n",
    "    \"name\": [\"Monkey D. Luffy\", \"Roronoa Zoro\", \"Nami\"],\n",
    "    \"age\": [19, 21, np.nan]\n",
    "}\n",
    "df_w_na = pd.DataFrame(dict_w_na, columns = [\"name\", \"age\"])\n",
    "print(df_w_na)\n",
    "df_wo_na = df_w_na.fillna(20)\n",
    "print(\"---\")\n",
    "print(df_wo_na)\n",
    "```"
   ]
  },
  {
   "cell_type": "markdown",
   "metadata": {
    "slideshow": {
     "slide_type": "subslide"
    }
   },
   "source": [
    "## 處理遺漏值（3）\n",
    "\n",
    "- `.fillna()` 方法用平均值填滿\n",
    "\n",
    "```python\n",
    "import numpy as np\n",
    "import pandas as pd\n",
    "\n",
    "df_w_na = pd.DataFrame(\n",
    "    {\"age\": [20, 21, 20, 29, np.nan, np.nan]}\n",
    ")\n",
    "df_wo_na = df_w_na.fillna(df_w_na.age.mean())\n",
    "df_wo_na\n",
    "```"
   ]
  },
  {
   "cell_type": "markdown",
   "metadata": {
    "slideshow": {
     "slide_type": "slide"
    }
   },
   "source": [
    "## 讀取外部資料\n",
    "\n",
    "- 使用 `pandas` 套件的 `.read_csv()` 方法讀取 csv 檔案\n",
    "\n",
    "```python\n",
    "import pandas as pd\n",
    "\n",
    "url = \"https://storage.googleapis.com/py_ds_basic/iris.csv\" # 在雲端上儲存了一份 csv 檔案\n",
    "iris_df = pd.read_csv(url)\n",
    "iris_df.head()\n",
    "```"
   ]
  },
  {
   "cell_type": "markdown",
   "metadata": {
    "slideshow": {
     "slide_type": "subslide"
    }
   },
   "source": [
    "## 讀取外部資料（2）\n",
    "\n",
    "- 使用 `pandas` 套件的 `.read_table()` 方法讀取 tsv 檔案\n",
    "\n",
    "```python\n",
    "import pandas as pd\n",
    "\n",
    "url = \"https://storage.googleapis.com/py_ds_basic/iris.tsv\" # 在雲端上儲存了一份 tsv 檔案\n",
    "iris_df = pd.read_table(url, sep = \"\\t\")\n",
    "iris_df.head()\n",
    "```"
   ]
  },
  {
   "cell_type": "markdown",
   "metadata": {
    "slideshow": {
     "slide_type": "subslide"
    }
   },
   "source": [
    "## 讀取外部資料（3）\n",
    "\n",
    "- 使用 `pandas` 套件的 `.read_excel()` 方法來讀取 excel 檔案\n",
    "\n",
    "```python\n",
    "import pandas as pd\n",
    "\n",
    "url = \"https://storage.googleapis.com/py_ds_basic/iris.xlsx\" # 在雲端上儲存了一份 Excel 試算表\n",
    "iris_df = pd.read_excel(url)\n",
    "iris_df.head()\n",
    "```"
   ]
  },
  {
   "cell_type": "markdown",
   "metadata": {
    "slideshow": {
     "slide_type": "subslide"
    }
   },
   "source": [
    "## 讀取外部資料（4）\n",
    "\n",
    "- 使用 `pandas` 套件的 `.read_json()` 方法來讀取 JSON 檔案\n",
    "\n",
    "```python\n",
    "import pandas as pd\n",
    "\n",
    "url = \"https://storage.googleapis.com/py_ds_basic/data/iris.json\" # 在雲端上儲存了一份 JSON 檔\n",
    "iris_df = pd.read_json(url)\n",
    "iris_df.head()\n",
    "```"
   ]
  },
  {
   "cell_type": "markdown",
   "metadata": {
    "slideshow": {
     "slide_type": "slide"
    }
   },
   "source": [
    "## 資料角力\n",
    "\n",
    "- 合併\n",
    "- 轉置\n",
    "- 轉換"
   ]
  },
  {
   "cell_type": "markdown",
   "metadata": {
    "slideshow": {
     "slide_type": "slide"
    }
   },
   "source": [
    "## 合併\n",
    "\n",
    "- 使用 `pandas` 套件的 `.merge()` 方法\n",
    "\n",
    "```python\n",
    "import pandas as pd\n",
    "\n",
    "name = [\"蒙其·D·魯夫\", \"羅羅亞·索隆\", \"娜美\", \"騙人布\", \"賓什莫克·香吉士\", \"多尼多尼·喬巴\", \"妮可·羅賓\", \"佛朗基\", \"布魯克\"]\n",
    "occupation = [\"船長\", \"劍士\", \"航海士\", \"狙擊手\", \"廚師\", \"醫生\", \"考古學家\", \"船匠\", \"音樂家\"]\n",
    "\n",
    "# 建立 dict\n",
    "straw_hat_dict = {\"name\": name,\n",
    "                  \"occupation\": occupation\n",
    "}\n",
    "\n",
    "# 建立第一個 data frame\n",
    "straw_hat_df = pd.DataFrame(straw_hat_dict)\n",
    "\n",
    "name = [\"蒙其·D·魯夫\", \"多尼多尼·喬巴\", \"妮可·羅賓\", \"布魯克\"]\n",
    "devil_fruit = [\"橡膠果實\", \"人人果實\", \"花花果實\", \"黃泉果實\"]\n",
    "\n",
    "# 建立 dict\n",
    "devil_fruit_dict = {\"name\": name,\n",
    "                    \"devil_fruit\": devil_fruit\n",
    "}\n",
    "\n",
    "# 建立第二個 data frame\n",
    "devil_fruit_df = pd.DataFrame(devil_fruit_dict)\n",
    "\n",
    "# 合併\n",
    "straw_hat_merged = pd.merge(straw_hat_df, devil_fruit_df)\n",
    "straw_hat_merged\n",
    "```"
   ]
  },
  {
   "cell_type": "markdown",
   "metadata": {
    "slideshow": {
     "slide_type": "subslide"
    }
   },
   "source": [
    "## 合併（2）\n",
    "\n",
    "- 預設是 **inner join**\n",
    "- 如果希望使用不同的合併方式，我們可以在 `how =` 參數指定\n",
    "\n",
    "```python\n",
    "import pandas as pd\n",
    "\n",
    "name = [\"蒙其·D·魯夫\", \"羅羅亞·索隆\", \"娜美\", \"騙人布\", \"賓什莫克·香吉士\", \"多尼多尼·喬巴\", \"妮可·羅賓\", \"佛朗基\", \"布魯克\"]\n",
    "occupation = [\"船長\", \"劍士\", \"航海士\", \"狙擊手\", \"廚師\", \"醫生\", \"考古學家\", \"船匠\", \"音樂家\"]\n",
    "\n",
    "# 建立 dict\n",
    "straw_hat_dict = {\"name\": name,\n",
    "                  \"occupation\": occupation\n",
    "}\n",
    "\n",
    "# 建立第一個 data frame\n",
    "straw_hat_df = pd.DataFrame(straw_hat_dict)\n",
    "\n",
    "name = [\"蒙其·D·魯夫\", \"多尼多尼·喬巴\", \"妮可·羅賓\", \"布魯克\"]\n",
    "devil_fruit = [\"橡膠果實\", \"人人果實\", \"花花果實\", \"黃泉果實\"]\n",
    "\n",
    "# 建立 dict\n",
    "devil_fruit_dict = {\"name\": name,\n",
    "                    \"devil_fruit\": devil_fruit\n",
    "}\n",
    "\n",
    "# 建立第二個 data frame\n",
    "devil_fruit_df = pd.DataFrame(devil_fruit_dict)\n",
    "\n",
    "# 合併\n",
    "straw_hat_merged = pd.merge(straw_hat_df, devil_fruit_df, how = \"left\")\n",
    "straw_hat_merged\n",
    "```"
   ]
  },
  {
   "cell_type": "markdown",
   "metadata": {
    "slideshow": {
     "slide_type": "slide"
    }
   },
   "source": [
    "## 轉置\n",
    "\n",
    "- 使用 `.stack()` 方法將寬表格轉置為長表格\n",
    "- 使用 `.unstack()` 方法將長表格轉置回寬表格\n",
    "\n",
    "```python\n",
    "import pandas as pd\n",
    "\n",
    "name = [\"蒙其·D·魯夫\", \"羅羅亞·索隆\", \"娜美\", \"騙人布\", \"賓什莫克·香吉士\", \"多尼多尼·喬巴\", \"妮可·羅賓\", \"佛朗基\", \"布魯克\"]\n",
    "age = [19, 21, 20, 19, 21, 17, 30, 36, 90]\n",
    "height = [174, 181, 170, 176, 180, 90, 188, 240, 277]\n",
    "\n",
    "# 建立 dict\n",
    "straw_hat_dict = {\n",
    "    \"name\": name,\n",
    "    \"age\": age,\n",
    "    \"height\": height\n",
    "}\n",
    "\n",
    "# 建立一個寬表格\n",
    "straw_hat_df_wide = pd.DataFrame(straw_hat_dict)\n",
    "\n",
    "# 轉換為長表格\n",
    "straw_hat_df_long = straw_hat_df_wide.stack()\n",
    "print(straw_hat_df_long)\n",
    "\n",
    "# 轉換回寬表格\n",
    "straw_hat_df_wide = straw_hat_df_long.unstack()\n",
    "straw_hat_df_wide\n",
    "```"
   ]
  },
  {
   "cell_type": "markdown",
   "metadata": {
    "slideshow": {
     "slide_type": "slide"
    }
   },
   "source": [
    "## 轉換\n",
    "\n",
    "- 使用 `.drop_duplicated()` 方法移除重複的觀測值\n",
    "\n",
    "```python\n",
    "import pandas as pd\n",
    "\n",
    "# 建立一個有重複值的 data frame\n",
    "name = [\"蒙其·D·魯夫\", \"蒙其·D·魯夫\", \"蒙其·D·魯夫\", \"羅羅亞·索隆\", \"羅羅亞·索隆\", \"羅羅亞·索隆\"]\n",
    "age = [19, 19, 17, 21, 21, 19]\n",
    "duplicated_dict = {\n",
    "    \"name\": name,\n",
    "    \"age\": age\n",
    "}\n",
    "duplicated_df = pd.DataFrame(duplicated_dict)\n",
    "\n",
    "# 判斷是否重複\n",
    "print(duplicated_df.duplicated())\n",
    "\n",
    "# 去除重複觀測值\n",
    "print(duplicated_df.drop_duplicates())\n",
    "```"
   ]
  },
  {
   "cell_type": "markdown",
   "metadata": {
    "slideshow": {
     "slide_type": "subslide"
    }
   },
   "source": [
    "## 轉換（2）\n",
    "\n",
    "- 數值分箱（Binning）將連續型數值用幾個切點分隔，新增一個類別型變數\n",
    "- 使用 `pandas` 套件的 `.cut()` 方法\n",
    "\n",
    "```python\n",
    "import pandas as pd\n",
    "\n",
    "name = [\"蒙其·D·魯夫\", \"羅羅亞·索隆\", \"娜美\", \"騙人布\", \"賓什莫克·香吉士\", \"多尼多尼·喬巴\", \"妮可·羅賓\", \"佛朗基\", \"布魯克\"]\n",
    "age = [19, 21, 20, 19, 21, 17, 30, 36, 90]\n",
    "\n",
    "# 建立 dict\n",
    "straw_hat_dict = {\n",
    "    \"name\": name,\n",
    "    \"age\": age\n",
    "}\n",
    "\n",
    "# 建立一個 data frame\n",
    "straw_hat_df = pd.DataFrame(straw_hat_dict, columns = [\"name\", \"age\"])\n",
    "\n",
    "# 分箱\n",
    "bins = [0, 25, float(\"inf\")]\n",
    "group_names = [\"小於 25 歲\", \"超過 25 歲\"]\n",
    "straw_hat_df.ix[:, \"age_cat\"] = pd.cut(straw_hat_df.ix[:, \"age\"], bins, labels = group_names)\n",
    "straw_hat_df\n",
    "```"
   ]
  }
 ],
 "metadata": {
  "celltoolbar": "Slideshow",
  "kernelspec": {
   "display_name": "Python 3",
   "language": "python",
   "name": "python3"
  },
  "language_info": {
   "codemirror_mode": {
    "name": "ipython",
    "version": 3
   },
   "file_extension": ".py",
   "mimetype": "text/x-python",
   "name": "python",
   "nbconvert_exporter": "python",
   "pygments_lexer": "ipython3",
   "version": "3.5.2"
  }
 },
 "nbformat": 4,
 "nbformat_minor": 1
}
