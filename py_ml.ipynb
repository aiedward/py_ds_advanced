{
 "cells": [
  {
   "cell_type": "markdown",
   "metadata": {
    "slideshow": {
     "slide_type": "slide"
    }
   },
   "source": [
    "# Python 機器學習\n",
    "\n",
    "## 郭耀仁"
   ]
  },
  {
   "cell_type": "markdown",
   "metadata": {
    "slideshow": {
     "slide_type": "slide"
    }
   },
   "source": [
    "## 大綱\n",
    "\n",
    "- 課程目標\n",
    "- 能力盤點\n",
    "- 建立開發環境\n",
    "- ndarray 簡介\n",
    "- DataFrame 簡介\n",
    "- `sklearn` 快速上手\n",
    "- 繪製 Decision Region Plot\n",
    "- 預處理\n",
    "- 分類\n",
    "- 管線\n",
    "- 第一次上傳\n",
    "- 模型評估\n",
    "- 整體學習\n",
    "- 第二次上傳"
   ]
  },
  {
   "cell_type": "markdown",
   "metadata": {
    "slideshow": {
     "slide_type": "slide"
    }
   },
   "source": [
    "## 課程目標\n",
    "\n",
    "- 讓學員學會使用 Python 的機器學習相關套件\n",
    "- 讓學員能參與 **Kaggle** 的分類模型競賽"
   ]
  },
  {
   "cell_type": "markdown",
   "metadata": {
    "slideshow": {
     "slide_type": "slide"
    }
   },
   "source": [
    "## 能力盤點\n",
    "\n",
    "- 基本能力：\n",
    "    - 建立開發環境\n",
    "    - `NumPy` 套件的 **ndarray**\n",
    "    - `Pandas` 套件的 **DataFrame**\n",
    "    - 繪製 **Decision Region Plot**"
   ]
  },
  {
   "cell_type": "markdown",
   "metadata": {
    "slideshow": {
     "slide_type": "subslide"
    }
   },
   "source": [
    "## 能力盤點（2）\n",
    "\n",
    "- `Scikit-Learn` 模組：\n",
    "    - 預處理\n",
    "    - 分類\n",
    "    - 管線\n",
    "    - 模型評估\n",
    "    - 整體學習"
   ]
  },
  {
   "cell_type": "markdown",
   "metadata": {
    "slideshow": {
     "slide_type": "slide"
    }
   },
   "source": [
    "## 建立開發環境\n",
    "\n",
    "- 為什麼選擇 [Anaconda](https://www.continuum.io/downloads)？"
   ]
  },
  {
   "cell_type": "markdown",
   "metadata": {
    "slideshow": {
     "slide_type": "subslide"
    }
   },
   "source": [
    "## 建立開發環境（2）\n",
    "\n",
    "- 選擇 Python 3.6 版本安裝\n",
    "- 安裝完成後在命令列輸入：\n",
    "\n",
    "```\n",
    "$ jupyter notebook\n",
    "```\n",
    "\n",
    "- 新增一個 Python 3 notebook\n",
    "\n",
    "![day0102](https://storage.googleapis.com/2017_ithome_ironman/day0102.png)"
   ]
  },
  {
   "cell_type": "markdown",
   "metadata": {
    "slideshow": {
     "slide_type": "subslide"
    }
   },
   "source": [
    "## 建立開發環境（3）\n",
    "\n",
    "- 在 cell 中執行以下指令：\n",
    "\n",
    "```python\n",
    "import numpy as np\n",
    "import pandas as pd\n",
    "import matplotlib\n",
    "import sklearn\n",
    "\n",
    "print(np.__version__)\n",
    "print(pd.__version__)\n",
    "print(matplotlib.__version__)\n",
    "print(sklearn.__version__)\n",
    "```"
   ]
  },
  {
   "cell_type": "markdown",
   "metadata": {
    "slideshow": {
     "slide_type": "subslide"
    }
   },
   "source": [
    "## 建立開發環境（4）\n",
    "\n",
    "- 如果執行後出現下圖，**恭喜您**，我們的開發環境建立完畢了！\n",
    "\n",
    "![midterm_01](https://storage.googleapis.com/py_ds_basic/midterm_01.png)"
   ]
  },
  {
   "cell_type": "markdown",
   "metadata": {
    "slideshow": {
     "slide_type": "slide"
    }
   },
   "source": [
    "## `ndarray` 簡介"
   ]
  },
  {
   "cell_type": "markdown",
   "metadata": {
    "slideshow": {
     "slide_type": "slide"
    }
   },
   "source": [
    "## `DataFrame` 簡介"
   ]
  },
  {
   "cell_type": "markdown",
   "metadata": {
    "slideshow": {
     "slide_type": "slide"
    }
   },
   "source": [
    "## `sklearn` 快速上手\n",
    "\n",
    "- `sklearn` 簡介\n",
    "- 如何使用 `sklearn`"
   ]
  },
  {
   "cell_type": "markdown",
   "metadata": {
    "slideshow": {
     "slide_type": "slide"
    }
   },
   "source": [
    "## `sklearn` 簡介\n",
    "\n",
    "- Python 的機器學習套件\n",
    "- 有六大功能模組：\n",
    "    - 預處理\n",
    "    - 降維\n",
    "    - 迴歸\n",
    "    - 分群\n",
    "    - 分類\n",
    "    - 模型評估\n",
    "\n",
    "<http://scikit-learn.org/stable/>"
   ]
  },
  {
   "cell_type": "markdown",
   "metadata": {
    "slideshow": {
     "slide_type": "subslide"
    }
   },
   "source": [
    "## 預處理模組（Preprocessing）\n",
    "\n",
    "> 在進行機器學習演算法之前，對資料進行轉換、遺漏值填補或標準化的前置作業。\n",
    "\n",
    "|常見應用|方法|\n",
    "|-------|---|\n",
    "|類別值轉換|`LabelEncoder()`、`OneHotEncoder()`|\n",
    "|遺漏值填補|`Imputer()`|\n",
    "|標準化|`StandardScaler()`、`MinMaxScaler()`|"
   ]
  },
  {
   "cell_type": "markdown",
   "metadata": {
    "slideshow": {
     "slide_type": "subslide"
    }
   },
   "source": [
    "## 降維模組（Dimensionality reduction）\n",
    "\n",
    "> 將多維資料的特徵映射到低維度的空間，目的在保留最多特徵的資訊。\n",
    "\n",
    "|常見應用|方法|\n",
    "|-------|---|\n",
    "|主成份分析|`PCA()`|\n",
    "|線性判別分析|`LDA()`|\n",
    "|核主成份分析|`KernelPCA()`|"
   ]
  },
  {
   "cell_type": "markdown",
   "metadata": {
    "slideshow": {
     "slide_type": "subslide"
    }
   },
   "source": [
    "## 迴歸模組（Regression）\n",
    "\n",
    "> 用來預測目標變數為連續型（數值）的學習演算法。\n",
    "\n",
    "|常見應用|方法|\n",
    "|-------|---|\n",
    "|線性迴歸|`LinearRegression()`|\n",
    "|決策樹迴歸|`DecisionTreeRegressor()`|\n",
    "|隨機森林迴歸|`RandomForestRegressor()`|"
   ]
  },
  {
   "cell_type": "markdown",
   "metadata": {
    "slideshow": {
     "slide_type": "subslide"
    }
   },
   "source": [
    "## 分群模組（Clustering）\n",
    "\n",
    "> 在不知道答案的情況下洞察資料潛藏樣式的學習演算法\n",
    "\n",
    "|常見應用|方法|\n",
    "|-------|---|\n",
    "|k-means|`KMeans()`|\n",
    "|階層分群|`AgglomerativeClustering()`|\n",
    "|DBSCAN|`DBSCAN()`|"
   ]
  },
  {
   "cell_type": "markdown",
   "metadata": {
    "slideshow": {
     "slide_type": "subslide"
    }
   },
   "source": [
    "## 分類模組（Classification）\n",
    "\n",
    "> 用來預測目標變數為離散型（類別）的學習演算法。\n",
    "\n",
    "|常見應用|方法|\n",
    "|-------|---|\n",
    "|感知器|`Perceptron()`|\n",
    "|羅吉斯迴歸|`LogisticRegression()`|\n",
    "|支持向量機|`SVC()`|\n",
    "|決策樹|`DecisionTreeClassifier()`|\n",
    "|KNN|`KNeighborsClassifier()`|"
   ]
  },
  {
   "cell_type": "markdown",
   "metadata": {
    "slideshow": {
     "slide_type": "subslide"
    }
   },
   "source": [
    "## 模型評估模組（Model selection）\n",
    "\n",
    "> 評估模型效能、微調機器學習模型參數與切割訓練測試資料。\n",
    "\n",
    "|常見應用|方法|\n",
    "|-------|---|\n",
    "|切割訓練測試資料|`train_test_split()`|\n",
    "|模型效能指標|`accuracy_score()`|\n",
    "|微調參數|`GridSearchCV()`|\n",
    "|k-fold 交叉驗證|`StratifiedKFold()`|"
   ]
  },
  {
   "cell_type": "markdown",
   "metadata": {
    "slideshow": {
     "slide_type": "slide"
    }
   },
   "source": [
    "## 如何使用 `sklearn`\n",
    "\n",
    "- 範例一：讀入內建玩具資料集\n",
    "\n",
    "```python\n",
    "from sklearn import datasets\n",
    "\n",
    "iris = datasets.load_iris()\n",
    "print(iris.feature_names)\n",
    "print(iris.target_names)\n",
    "print(iris.data.shape)\n",
    "print(iris.target.shape)\n",
    "```"
   ]
  },
  {
   "cell_type": "markdown",
   "metadata": {
    "slideshow": {
     "slide_type": "subslide"
    }
   },
   "source": [
    "## 如何使用 `sklearn`（2）\n",
    "\n",
    "- 範例二：切割訓練測試資料\n",
    "\n",
    "```python\n",
    "from sklearn import datasets, model_selection\n",
    "\n",
    "iris = datasets.load_iris()\n",
    "X = iris.data\n",
    "y = iris.target\n",
    "X_train, X_test, y_train, y_test = model_selection.train_test_split(X, y, test_size = 0.3, random_state = 0)\n",
    "print(X_train.shape)\n",
    "print(X_test.shape)\n",
    "print(y_train.shape)\n",
    "print(y_test.shape)\n",
    "```"
   ]
  },
  {
   "cell_type": "markdown",
   "metadata": {
    "slideshow": {
     "slide_type": "subslide"
    }
   },
   "source": [
    "## 如何使用 `sklearn`（3）\n",
    "\n",
    "- 範例三：標準化維度\n",
    "\n",
    "```python\n",
    "from sklearn import datasets, preprocessing\n",
    "\n",
    "iris = datasets.load_iris()\n",
    "X = iris.data\n",
    "std_scaler = preprocessing.StandardScaler()\n",
    "std_scaler.fit(X)\n",
    "X_std = std_scaler.transform(X)\n",
    "print(X_std[0:5, :])\n",
    "print(X[0:5, :])\n",
    "```"
   ]
  },
  {
   "cell_type": "markdown",
   "metadata": {
    "slideshow": {
     "slide_type": "slide"
    }
   },
   "source": [
    "## 繪製 Decision Region Plot\n",
    "\n",
    "- 為什麼要繪製決策區域圖？\n",
    "    - 利用視覺化暸解學習演算法的分類方法\n",
    "    - 兩個特徵方便視覺化"
   ]
  },
  {
   "cell_type": "markdown",
   "metadata": {
    "slideshow": {
     "slide_type": "subslide"
    }
   },
   "source": [
    "## 繪製 Decision Region Plot（2）\n",
    "\n",
    "- 準備只有兩個特徵的資料\n",
    "\n",
    "```python\n",
    "from sklearn import datasets\n",
    "\n",
    "iris = datasets.load_iris()\n",
    "X = iris.data[:, 0:2] # sepal length(cm) 與 sepal width(cm)\n",
    "y = iris.target\n",
    "```"
   ]
  },
  {
   "cell_type": "markdown",
   "metadata": {
    "slideshow": {
     "slide_type": "subslide"
    }
   },
   "source": [
    "## 繪製 Decision Region Plot（3）\n",
    "\n",
    "- 標準化兩個特徵\n",
    "\n",
    "```python\n",
    "from sklearn.preprocessing import StandardScaler\n",
    "\n",
    "std_scaler = StandardScaler()\n",
    "std_scaler.fit(X)\n",
    "X_std = std_scaler.transform(X)\n",
    "```"
   ]
  },
  {
   "cell_type": "markdown",
   "metadata": {
    "slideshow": {
     "slide_type": "subslide"
    }
   },
   "source": [
    "## 繪製 Decision Region Plot（4）\n",
    "\n",
    "- 切割訓練測試資料集\n",
    "\n",
    "```python\n",
    "from sklearn.model_selection import train_test_split\n",
    "\n",
    "X_train, X_test, y_train, y_test = train_test_split(X_std, y, test_size = 0.3, random_state = 0)\n",
    "```"
   ]
  },
  {
   "cell_type": "markdown",
   "metadata": {
    "slideshow": {
     "slide_type": "subslide"
    }
   },
   "source": [
    "## 繪製 Decision Region Plot（5）\n",
    "\n",
    "- 訓練感知器模型\n",
    "\n",
    "```python\n",
    "from sklearn.linear_model import Perceptron\n",
    "\n",
    "ppn = Perceptron(n_iter = 40, eta0 = 0.1, random_state = 87)\n",
    "ppn.fit(X_train, y_train)\n",
    "```"
   ]
  },
  {
   "cell_type": "markdown",
   "metadata": {
    "slideshow": {
     "slide_type": "subslide"
    }
   },
   "source": [
    "## 繪製 Decision Region Plot（6）\n",
    "\n",
    "- 預測並檢視評估指標：**分類正確率**\n",
    "\n",
    "```python\n",
    "from sklearn.metrics import accuracy_score\n",
    "\n",
    "y_pred = ppn.predict(X_test)\n",
    "print(\"分類正確率：%.2f\" % accuracy_score(y_test, y_pred))\n",
    "```"
   ]
  },
  {
   "cell_type": "markdown",
   "metadata": {
    "slideshow": {
     "slide_type": "subslide"
    }
   },
   "source": [
    "## 繪製 Decision Region Plot（7）\n",
    "\n",
    "- 三種鳶尾花品種的標點樣式\n",
    "    - square(s)\n",
    "    - cross(x)\n",
    "    - circle(o)\n",
    "- 三種鳶尾花品種的填滿區域顏色\n",
    "\n",
    "```python\n",
    "from matplotlib.colors import ListedColormap\n",
    "\n",
    "markers = ('x', 'o', 's')\n",
    "colors = ('red', 'blue', 'green')\n",
    "color_map = ListedColormap(colors)\n",
    "```"
   ]
  },
  {
   "cell_type": "markdown",
   "metadata": {
    "slideshow": {
     "slide_type": "subslide"
    }
   },
   "source": [
    "## 繪製 Decision Region Plot（8）\n",
    "\n",
    "- 定義 X 軸與 Y 軸的上下限\n",
    "\n",
    "```python\n",
    "x1_min, x1_max = X_std[:, 0].min() - 1, X_std[:, 0].max() + 1\n",
    "x2_min, x2_max = X_std[:, 1].min() - 1, X_std[:, 1].max() + 1\n",
    "```"
   ]
  },
  {
   "cell_type": "markdown",
   "metadata": {
    "slideshow": {
     "slide_type": "subslide"
    }
   },
   "source": [
    "## 繪製 Decision Region Plot（9）\n",
    "\n",
    "- 在 x1 與 x2 的上下限每隔 0.02 就點一個點製造出網格陣列\n",
    "- 使用 NumPy 的 `meshgrid()` 函數\n",
    "\n",
    "```python\n",
    "import numpy as np\n",
    "\n",
    "xx1, xx2 = np.meshgrid(np.arange(x1_min, x1_max, 0.02), np.arange(x2_min, x2_max, 0.02))\n",
    "```"
   ]
  },
  {
   "cell_type": "markdown",
   "metadata": {
    "slideshow": {
     "slide_type": "subslide"
    }
   },
   "source": [
    "## 繪製 Decision Region Plot（10）\n",
    "\n",
    "- 預測網格陣列中每個點的品種\n",
    "- 用 `matplotlib` 的 `contourf()` 函數來畫等高線圖\n",
    "\n",
    "```python\n",
    "import numpy as np\n",
    "import matplotlib.pyplot as plt\n",
    "\n",
    "Z = ppn.predict(np.array([xx1.ravel(), xx2.ravel()]).T)\n",
    "Z = Z.reshape(xx1.shape)\n",
    "plt.contourf(xx1, xx2, Z, alpha = 0.4, cmap = color_map)\n",
    "plt.xlim(xx1.min(), xx1.max())\n",
    "plt.ylim(xx2.min(), xx2.max())\n",
    "plt.show()\n",
    "```"
   ]
  },
  {
   "cell_type": "markdown",
   "metadata": {
    "slideshow": {
     "slide_type": "subslide"
    }
   },
   "source": [
    "## 繪製 Decision Region Plot（11）\n",
    "\n",
    "- 把資料點放上去\n",
    "\n",
    "```python\n",
    "for i in np.unique(y):\n",
    "    plt.scatter(x = X_std[y == i, 0], y = X_std[y == i, 1], marker = markers[i], alpha = 0.7, c = colors[i], label = i)\n",
    "```"
   ]
  },
  {
   "cell_type": "markdown",
   "metadata": {
    "slideshow": {
     "slide_type": "subslide"
    }
   },
   "source": [
    "## 繪製 Decision Region Plot（12）\n",
    "\n",
    "- 整理繪製 Decision Region Plot 的程式\n",
    "\n",
    "```python\n",
    "### from sklearn import datasets\n",
    "from sklearn.preprocessing import StandardScaler\n",
    "from sklearn.model_selection import train_test_split\n",
    "from sklearn.linear_model import Perceptron\n",
    "import numpy as np\n",
    "from matplotlib.colors import ListedColormap\n",
    "import matplotlib.pyplot as plt\n",
    "\n",
    "# 讀入資料集\n",
    "iris = datasets.load_iris()\n",
    "X = iris.data[:, 0:2] # sepal length(cm) 與 sepal width(cm)\n",
    "y = iris.target\n",
    "\n",
    "# 標準化\n",
    "std_scaler = StandardScaler()\n",
    "std_scaler.fit(X)\n",
    "X_std = std_scaler.transform(X)\n",
    "\n",
    "# 切分訓練測試資料\n",
    "X_train, X_test, y_train, y_test = train_test_split(X_std, y, test_size = 0.3, random_state = 0)\n",
    "\n",
    "# 訓練感知器模型\n",
    "ppn = Perceptron(n_iter = 40, eta0 = 0.1, random_state = 0)\n",
    "ppn.fit(X_train, y_train)\n",
    "\n",
    "# 準備標點的樣式與網格顏色\n",
    "markers = ('x', 'o', 's')\n",
    "colors = ('red', 'blue', 'green')\n",
    "color_map = ListedColormap(colors)\n",
    "\n",
    "# 定義 X 軸與 Y 軸的上下限\n",
    "x1_min, x1_max = X_std[:, 0].min() - 1, X_std[:, 0].max() + 1\n",
    "x2_min, x2_max = X_std[:, 1].min() - 1, X_std[:, 1].max() + 1\n",
    "\n",
    "# 網格陣列\n",
    "xx1, xx2 = np.meshgrid(np.arange(x1_min, x1_max, 0.02), np.arange(x2_min, x2_max, 0.02))\n",
    "\n",
    "# 繪圖\n",
    "Z = ppn.predict(np.array([xx1.ravel(), xx2.ravel()]).T)\n",
    "Z = Z.reshape(xx1.shape)\n",
    "plt.contourf(xx1, xx2, Z, alpha = 0.2, cmap = color_map)\n",
    "plt.xlim(xx1.min(), xx1.max())\n",
    "plt.ylim(xx2.min(), xx2.max())\n",
    "for i in np.unique(y):\n",
    "    plt.scatter(x = X_std[y == i, 0], y = X_std[y == i, 1], marker = markers[i], alpha = 0.7, c = colors[i], label = i)\n",
    "plt.xlabel('sepal length(standardized)')\n",
    "plt.ylabel('sepal width(standardized)')\n",
    "plt.legend(loc = 'upper left')\n",
    "plt.show()\n",
    "```"
   ]
  },
  {
   "cell_type": "markdown",
   "metadata": {
    "slideshow": {
     "slide_type": "slide"
    }
   },
   "source": [
    "## 預處理\n",
    "\n",
    "- 填補遺漏值\n",
    "- 轉換類別值\n",
    "- 標準化數值\n",
    "\n",
    "> The `sklearn.preprocessing` package provides several common utility functions and transformer classes to change raw feature vectors into a representation that is more suitable for the downstream estimators."
   ]
  },
  {
   "cell_type": "markdown",
   "metadata": {
    "slideshow": {
     "slide_type": "subslide"
    }
   },
   "source": [
    "## 填補遺漏值"
   ]
  },
  {
   "cell_type": "markdown",
   "metadata": {
    "slideshow": {
     "slide_type": "subslide"
    }
   },
   "source": [
    "## 轉換類別值\n",
    "\n",
    "- 將類別標籤轉換為整數值\n",
    "- 使用 `LabelEncoder()` 函數\n",
    "\n",
    "```python\n",
    "from sklearn import preprocessing\n",
    "\n",
    "label_encoder = preprocessing.LabelEncoder()\n",
    "label_encoder.fit([\"female\", \"male\"])\n",
    "print(label_encoder.transform([\"female\", \"male\", \"male\", \"female\"]))\n",
    "label_encoder.fit([\"Q\", \"S\", \"C\"])\n",
    "print(label_encoder.transform([\"Q\", \"S\", \"C\", \"C\", \"S\"]))\n",
    "```"
   ]
  },
  {
   "cell_type": "markdown",
   "metadata": {
    "slideshow": {
     "slide_type": "slide"
    }
   },
   "source": [
    "## 分類\n",
    "\n",
    "> \n",
    "\n",
    "- 資料點線性可分\n",
    "    - 感知器\n",
    "    - 羅吉斯迴歸\n",
    "    - 線性支持向量機\n",
    "- 資料點非線性可分\n",
    "    - 核心支持向量機\n",
    "    - 決策樹\n",
    "    - knn"
   ]
  },
  {
   "cell_type": "markdown",
   "metadata": {
    "slideshow": {
     "slide_type": "slide"
    }
   },
   "source": [
    "## 感知器"
   ]
  },
  {
   "cell_type": "markdown",
   "metadata": {
    "slideshow": {
     "slide_type": "subslide"
    }
   },
   "source": [
    "## 感知器（2）\n",
    "\n",
    "- 使用 `sklearn` 實作感知器分類\n",
    "\n",
    "![]()"
   ]
  },
  {
   "cell_type": "markdown",
   "metadata": {
    "slideshow": {
     "slide_type": "slide"
    }
   },
   "source": [
    "## 羅吉斯迴歸"
   ]
  },
  {
   "cell_type": "markdown",
   "metadata": {
    "slideshow": {
     "slide_type": "subslide"
    }
   },
   "source": [
    "## 羅吉斯迴歸（2）\n",
    "\n",
    "- 使用 `sklearn` 實作羅吉斯迴歸分類\n",
    "\n",
    "![]()"
   ]
  },
  {
   "cell_type": "markdown",
   "metadata": {
    "slideshow": {
     "slide_type": "slide"
    }
   },
   "source": [
    "## 線性支持向量機"
   ]
  },
  {
   "cell_type": "markdown",
   "metadata": {
    "slideshow": {
     "slide_type": "subslide"
    }
   },
   "source": [
    "## 線性支持向量機（2）\n",
    "\n",
    "- 使用 `sklearn` 實作線性支持向量機分類\n",
    "\n",
    "![]()"
   ]
  },
  {
   "cell_type": "markdown",
   "metadata": {
    "slideshow": {
     "slide_type": "slide"
    }
   },
   "source": [
    "## 核心支持向量機"
   ]
  },
  {
   "cell_type": "markdown",
   "metadata": {
    "slideshow": {
     "slide_type": "subslide"
    }
   },
   "source": [
    "## 核心支持向量機（2）\n",
    "\n",
    "- 使用 `sklearn` 實作核心支持向量機分類\n",
    "\n",
    "![]()"
   ]
  },
  {
   "cell_type": "markdown",
   "metadata": {
    "slideshow": {
     "slide_type": "slide"
    }
   },
   "source": [
    "## 決策樹"
   ]
  },
  {
   "cell_type": "markdown",
   "metadata": {
    "slideshow": {
     "slide_type": "subslide"
    }
   },
   "source": [
    "## 決策樹（2）\n",
    "\n",
    "- 使用 `sklearn` 實作決策樹分類\n",
    "\n",
    "![]()"
   ]
  },
  {
   "cell_type": "markdown",
   "metadata": {
    "slideshow": {
     "slide_type": "slide"
    }
   },
   "source": [
    "## knn"
   ]
  },
  {
   "cell_type": "markdown",
   "metadata": {
    "slideshow": {
     "slide_type": "subslide"
    }
   },
   "source": [
    "## knn（2）\n",
    "\n",
    "- 使用 `sklearn` 實作 knn 分類\n",
    "\n",
    "![]()"
   ]
  },
  {
   "cell_type": "markdown",
   "metadata": {
    "slideshow": {
     "slide_type": "slide"
    }
   },
   "source": [
    "## 第一次上傳"
   ]
  },
  {
   "cell_type": "markdown",
   "metadata": {
    "slideshow": {
     "slide_type": "slide"
    }
   },
   "source": [
    "## 管線"
   ]
  },
  {
   "cell_type": "markdown",
   "metadata": {
    "slideshow": {
     "slide_type": "slide"
    }
   },
   "source": [
    "## 模型評估"
   ]
  },
  {
   "cell_type": "markdown",
   "metadata": {
    "slideshow": {
     "slide_type": "slide"
    }
   },
   "source": [
    "## 整體學習"
   ]
  },
  {
   "cell_type": "markdown",
   "metadata": {
    "slideshow": {
     "slide_type": "slide"
    }
   },
   "source": [
    "## 第二次上傳"
   ]
  }
 ],
 "metadata": {
  "celltoolbar": "Slideshow",
  "kernelspec": {
   "display_name": "Python 3",
   "language": "python",
   "name": "python3"
  },
  "language_info": {
   "codemirror_mode": {
    "name": "ipython",
    "version": 3
   },
   "file_extension": ".py",
   "mimetype": "text/x-python",
   "name": "python",
   "nbconvert_exporter": "python",
   "pygments_lexer": "ipython3",
   "version": "3.6.0"
  }
 },
 "nbformat": 4,
 "nbformat_minor": 2
}
