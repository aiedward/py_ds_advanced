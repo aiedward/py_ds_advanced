{
 "cells": [
  {
   "cell_type": "markdown",
   "metadata": {
    "slideshow": {
     "slide_type": "slide"
    }
   },
   "source": [
    "# Python 機器學習\n",
    "\n",
    "## 郭耀仁"
   ]
  },
  {
   "cell_type": "markdown",
   "metadata": {
    "slideshow": {
     "slide_type": "slide"
    }
   },
   "source": [
    "## 大綱\n",
    "\n",
    "- 課程目標\n",
    "- 能力盤點\n",
    "- 建立開發環境\n",
    "- ndarray 簡介\n",
    "- DataFrame 簡介\n",
    "- `sklearn` 快速上手\n",
    "- 繪製 Decision Region Plot\n",
    "- 預處理\n",
    "- 分類\n",
    "- 第一次上傳\n",
    "- 網格搜尋\n",
    "- 整體學習\n",
    "- 第二次上傳"
   ]
  },
  {
   "cell_type": "markdown",
   "metadata": {
    "slideshow": {
     "slide_type": "slide"
    }
   },
   "source": [
    "## 課程目標\n",
    "\n",
    "- 讓學員學會使用 Python 的機器學習相關套件\n",
    "- 讓學員能參與 **Kaggle** 的分類模型競賽"
   ]
  },
  {
   "cell_type": "markdown",
   "metadata": {
    "slideshow": {
     "slide_type": "slide"
    }
   },
   "source": [
    "## 能力盤點\n",
    "\n",
    "- 基本能力：\n",
    "    - 建立開發環境\n",
    "    - `NumPy` 套件的 **ndarray**\n",
    "    - `Pandas` 套件的 **DataFrame**\n",
    "    - 繪製 **Decision Region Plot**"
   ]
  },
  {
   "cell_type": "markdown",
   "metadata": {
    "slideshow": {
     "slide_type": "subslide"
    }
   },
   "source": [
    "## 能力盤點（2）\n",
    "\n",
    "- `Scikit-Learn` 模組：\n",
    "    - 預處理\n",
    "    - 分類\n",
    "    - 模型評估\n",
    "    - 整體學習"
   ]
  },
  {
   "cell_type": "markdown",
   "metadata": {
    "slideshow": {
     "slide_type": "slide"
    }
   },
   "source": [
    "## 建立開發環境\n",
    "\n",
    "- 為什麼選擇 [Anaconda](https://www.continuum.io/downloads)？\n",
    "    - 同時安裝 Python 主程式\n",
    "    - 同時安裝機器學習應用套件\n",
    "    - 同時安裝編輯器 Jupyter Notebook\n",
    "    - 同時安裝套件與環境管理工具 conda"
   ]
  },
  {
   "cell_type": "markdown",
   "metadata": {
    "slideshow": {
     "slide_type": "subslide"
    }
   },
   "source": [
    "## 建立開發環境（2）\n",
    "\n",
    "- 選擇 Python 3.6 版本安裝\n",
    "- 安裝完成後在命令列輸入：\n",
    "\n",
    "```\n",
    "$ jupyter notebook\n",
    "```\n",
    "\n",
    "- 新增一個 Python 3 notebook\n",
    "\n",
    "![day0102](https://storage.googleapis.com/2017_ithome_ironman/day0102.png)"
   ]
  },
  {
   "cell_type": "markdown",
   "metadata": {
    "slideshow": {
     "slide_type": "subslide"
    }
   },
   "source": [
    "## 建立開發環境（3）\n",
    "\n",
    "- 在 cell 中執行以下指令：\n",
    "\n",
    "```python\n",
    "import numpy as np\n",
    "import pandas as pd\n",
    "import matplotlib\n",
    "import sklearn\n",
    "\n",
    "print(np.__version__)\n",
    "print(pd.__version__)\n",
    "print(matplotlib.__version__)\n",
    "print(sklearn.__version__)\n",
    "```"
   ]
  },
  {
   "cell_type": "markdown",
   "metadata": {
    "slideshow": {
     "slide_type": "subslide"
    }
   },
   "source": [
    "## 建立開發環境（4）\n",
    "\n",
    "- 如果執行後出現下圖，**恭喜您**，我們的開發環境建立完畢了！\n",
    "\n",
    "![midterm_01](https://storage.googleapis.com/py_ds_basic/midterm_01.png)"
   ]
  },
  {
   "cell_type": "markdown",
   "metadata": {
    "slideshow": {
     "slide_type": "subslide"
    }
   },
   "source": [
    "## 建立開發環境（5）\n",
    "\n",
    "- 學員亦可直接使用 [Project Jupyter](http://jupyter.org/) 建立好的瀏覽器環境\n",
    "- 點選 **Try it in your browser**"
   ]
  },
  {
   "cell_type": "markdown",
   "metadata": {
    "slideshow": {
     "slide_type": "slide"
    }
   },
   "source": [
    "## `ndarray` 簡介\n",
    "\n",
    "- [Numpy 簡介](https://yaojenkuo.github.io/py_ds_advanced/ch2.slides)"
   ]
  },
  {
   "cell_type": "markdown",
   "metadata": {
    "slideshow": {
     "slide_type": "slide"
    }
   },
   "source": [
    "## `DataFrame` 簡介\n",
    "\n",
    "- [DataFrame 簡介](https://yaojenkuo.github.io/py_ds_advanced/ch3.slides)"
   ]
  },
  {
   "cell_type": "markdown",
   "metadata": {
    "slideshow": {
     "slide_type": "slide"
    }
   },
   "source": [
    "## `sklearn` 快速上手\n",
    "\n",
    "- `sklearn` 簡介\n",
    "- 如何使用 `sklearn`"
   ]
  },
  {
   "cell_type": "markdown",
   "metadata": {
    "slideshow": {
     "slide_type": "slide"
    }
   },
   "source": [
    "## `sklearn` 簡介\n",
    "\n",
    "- Python 的機器學習套件\n",
    "- 有六大功能模組：\n",
    "    - 預處理\n",
    "    - 降維\n",
    "    - 迴歸\n",
    "    - 分群\n",
    "    - 分類\n",
    "    - 模型評估\n",
    "\n",
    "Source: <http://scikit-learn.org/stable/>"
   ]
  },
  {
   "cell_type": "markdown",
   "metadata": {
    "slideshow": {
     "slide_type": "subslide"
    }
   },
   "source": [
    "## 預處理模組（Preprocessing）\n",
    "\n",
    "> 在進行機器學習演算法之前，對資料進行轉換、遺漏值填補或標準化的前置作業。\n",
    "\n",
    "|常見應用|方法|\n",
    "|-------|---|\n",
    "|類別值轉換|`LabelEncoder()`、`OneHotEncoder()`|\n",
    "|遺漏值填補|`Imputer()`|\n",
    "|標準化|`StandardScaler()`、`MinMaxScaler()`|"
   ]
  },
  {
   "cell_type": "markdown",
   "metadata": {
    "slideshow": {
     "slide_type": "subslide"
    }
   },
   "source": [
    "## 降維模組（Dimensionality reduction）\n",
    "\n",
    "> 將多維資料的特徵映射到低維度的空間，目的在保留最多特徵的資訊。\n",
    "\n",
    "|常見應用|方法|\n",
    "|-------|---|\n",
    "|主成份分析|`PCA()`|\n",
    "|線性判別分析|`LDA()`|\n",
    "|核主成份分析|`KernelPCA()`|"
   ]
  },
  {
   "cell_type": "markdown",
   "metadata": {
    "slideshow": {
     "slide_type": "subslide"
    }
   },
   "source": [
    "## 迴歸模組（Regression）\n",
    "\n",
    "> 用來預測目標變數為連續型（數值）的學習演算法。\n",
    "\n",
    "|常見應用|方法|\n",
    "|-------|---|\n",
    "|線性迴歸|`LinearRegression()`|\n",
    "|決策樹迴歸|`DecisionTreeRegressor()`|\n",
    "|隨機森林迴歸|`RandomForestRegressor()`|"
   ]
  },
  {
   "cell_type": "markdown",
   "metadata": {
    "slideshow": {
     "slide_type": "subslide"
    }
   },
   "source": [
    "## 分群模組（Clustering）\n",
    "\n",
    "> 在不知道答案的情況下洞察資料潛藏樣式的學習演算法\n",
    "\n",
    "|常見應用|方法|\n",
    "|-------|---|\n",
    "|k-means|`KMeans()`|\n",
    "|階層分群|`AgglomerativeClustering()`|\n",
    "|DBSCAN|`DBSCAN()`|"
   ]
  },
  {
   "cell_type": "markdown",
   "metadata": {
    "slideshow": {
     "slide_type": "subslide"
    }
   },
   "source": [
    "## 分類模組（Classification）\n",
    "\n",
    "> 用來預測目標變數為離散型（類別）的學習演算法。\n",
    "\n",
    "|常見應用|方法|\n",
    "|-------|---|\n",
    "|感知器|`Perceptron()`|\n",
    "|羅吉斯迴歸|`LogisticRegression()`|\n",
    "|支持向量機|`SVC()`|\n",
    "|決策樹|`DecisionTreeClassifier()`|\n",
    "|KNN|`KNeighborsClassifier()`|"
   ]
  },
  {
   "cell_type": "markdown",
   "metadata": {
    "slideshow": {
     "slide_type": "subslide"
    }
   },
   "source": [
    "## 模型評估模組（Model selection）\n",
    "\n",
    "> 評估模型效能、微調機器學習模型參數與切割訓練測試資料。\n",
    "\n",
    "|常見應用|方法|\n",
    "|-------|---|\n",
    "|切割訓練測試資料|`train_test_split()`|\n",
    "|模型效能指標|`accuracy_score()`|\n",
    "|微調參數|`GridSearchCV()`|\n",
    "|k-fold 交叉驗證|`StratifiedKFold()`|"
   ]
  },
  {
   "cell_type": "markdown",
   "metadata": {
    "slideshow": {
     "slide_type": "slide"
    }
   },
   "source": [
    "## 如何使用 `sklearn`\n",
    "\n",
    "- 範例一：讀入內建玩具資料集\n",
    "\n",
    "```python\n",
    "from sklearn import datasets\n",
    "\n",
    "iris = datasets.load_iris()\n",
    "print(iris.feature_names)\n",
    "print(iris.target_names)\n",
    "print(iris.data.shape)\n",
    "print(iris.target.shape)\n",
    "```"
   ]
  },
  {
   "cell_type": "markdown",
   "metadata": {
    "slideshow": {
     "slide_type": "subslide"
    }
   },
   "source": [
    "## 如何使用 `sklearn`（2）\n",
    "\n",
    "- 範例二：切割訓練測試資料\n",
    "\n",
    "```python\n",
    "from sklearn import datasets, model_selection\n",
    "\n",
    "iris = datasets.load_iris()\n",
    "X = iris.data\n",
    "y = iris.target\n",
    "X_train, X_test, y_train, y_test = model_selection.train_test_split(X, y, test_size = 0.3, random_state = 0)\n",
    "print(X_train.shape)\n",
    "print(X_test.shape)\n",
    "print(y_train.shape)\n",
    "print(y_test.shape)\n",
    "```"
   ]
  },
  {
   "cell_type": "markdown",
   "metadata": {
    "slideshow": {
     "slide_type": "subslide"
    }
   },
   "source": [
    "## 如何使用 `sklearn`（3）\n",
    "\n",
    "- 範例三：標準化維度\n",
    "\n",
    "```python\n",
    "from sklearn import datasets, preprocessing\n",
    "\n",
    "iris = datasets.load_iris()\n",
    "X = iris.data\n",
    "std_scaler = preprocessing.StandardScaler()\n",
    "std_scaler.fit(X)\n",
    "X_std = std_scaler.transform(X)\n",
    "print(X_std[0:5, :])\n",
    "print(X[0:5, :])\n",
    "```"
   ]
  },
  {
   "cell_type": "markdown",
   "metadata": {
    "slideshow": {
     "slide_type": "slide"
    }
   },
   "source": [
    "## 繪製 Decision Region Plot\n",
    "\n",
    "- 為什麼要繪製決策區域圖？\n",
    "    - 利用視覺化暸解學習演算法的分類方法\n",
    "    - 兩個特徵方便視覺化"
   ]
  },
  {
   "cell_type": "markdown",
   "metadata": {
    "slideshow": {
     "slide_type": "subslide"
    }
   },
   "source": [
    "## 繪製 Decision Region Plot（2）\n",
    "\n",
    "- 準備只有兩個特徵的資料\n",
    "\n",
    "```python\n",
    "from sklearn import datasets\n",
    "\n",
    "iris = datasets.load_iris()\n",
    "X = iris.data[:, 0:2] # sepal length(cm) 與 sepal width(cm)\n",
    "y = iris.target\n",
    "```"
   ]
  },
  {
   "cell_type": "markdown",
   "metadata": {
    "slideshow": {
     "slide_type": "subslide"
    }
   },
   "source": [
    "## 繪製 Decision Region Plot（3）\n",
    "\n",
    "- 標準化兩個特徵\n",
    "\n",
    "```python\n",
    "from sklearn.preprocessing import StandardScaler\n",
    "\n",
    "std_scaler = StandardScaler()\n",
    "std_scaler.fit(X)\n",
    "X_std = std_scaler.transform(X)\n",
    "```"
   ]
  },
  {
   "cell_type": "markdown",
   "metadata": {
    "slideshow": {
     "slide_type": "subslide"
    }
   },
   "source": [
    "## 繪製 Decision Region Plot（4）\n",
    "\n",
    "- 切割訓練測試資料集\n",
    "\n",
    "```python\n",
    "from sklearn.model_selection import train_test_split\n",
    "\n",
    "X_train, X_test, y_train, y_test = train_test_split(X_std, y, test_size = 0.3, random_state = 0)\n",
    "```"
   ]
  },
  {
   "cell_type": "markdown",
   "metadata": {
    "slideshow": {
     "slide_type": "subslide"
    }
   },
   "source": [
    "## 繪製 Decision Region Plot（5）\n",
    "\n",
    "- 訓練感知器模型\n",
    "\n",
    "```python\n",
    "from sklearn.linear_model import Perceptron\n",
    "\n",
    "ppn = Perceptron(n_iter = 40, eta0 = 0.1, random_state = 87)\n",
    "ppn.fit(X_train, y_train)\n",
    "```"
   ]
  },
  {
   "cell_type": "markdown",
   "metadata": {
    "slideshow": {
     "slide_type": "subslide"
    }
   },
   "source": [
    "## 繪製 Decision Region Plot（6）\n",
    "\n",
    "- 預測並檢視評估指標：**分類正確率**\n",
    "\n",
    "```python\n",
    "from sklearn.metrics import accuracy_score\n",
    "\n",
    "y_pred = ppn.predict(X_test)\n",
    "print(\"分類正確率：%.2f\" % accuracy_score(y_test, y_pred))\n",
    "```"
   ]
  },
  {
   "cell_type": "markdown",
   "metadata": {
    "slideshow": {
     "slide_type": "subslide"
    }
   },
   "source": [
    "## 繪製 Decision Region Plot（7）\n",
    "\n",
    "- 三種鳶尾花品種的標點樣式\n",
    "    - square(s)\n",
    "    - cross(x)\n",
    "    - circle(o)\n",
    "- 三種鳶尾花品種的填滿區域顏色\n",
    "\n",
    "```python\n",
    "from matplotlib.colors import ListedColormap\n",
    "\n",
    "markers = ('x', 'o', 's')\n",
    "colors = ('red', 'blue', 'green')\n",
    "color_map = ListedColormap(colors)\n",
    "```"
   ]
  },
  {
   "cell_type": "markdown",
   "metadata": {
    "slideshow": {
     "slide_type": "subslide"
    }
   },
   "source": [
    "## 繪製 Decision Region Plot（8）\n",
    "\n",
    "- 定義 X 軸與 Y 軸的上下限\n",
    "\n",
    "```python\n",
    "x1_min, x1_max = X_std[:, 0].min() - 1, X_std[:, 0].max() + 1\n",
    "x2_min, x2_max = X_std[:, 1].min() - 1, X_std[:, 1].max() + 1\n",
    "```"
   ]
  },
  {
   "cell_type": "markdown",
   "metadata": {
    "slideshow": {
     "slide_type": "subslide"
    }
   },
   "source": [
    "## 繪製 Decision Region Plot（9）\n",
    "\n",
    "- 在 x1 與 x2 的上下限每隔 0.02 就點一個點製造出網格陣列\n",
    "- 使用 NumPy 的 `meshgrid()` 函數\n",
    "\n",
    "```python\n",
    "import numpy as np\n",
    "\n",
    "xx1, xx2 = np.meshgrid(np.arange(x1_min, x1_max, 0.02), np.arange(x2_min, x2_max, 0.02))\n",
    "```"
   ]
  },
  {
   "cell_type": "markdown",
   "metadata": {
    "slideshow": {
     "slide_type": "subslide"
    }
   },
   "source": [
    "## 繪製 Decision Region Plot（10）\n",
    "\n",
    "- 預測網格陣列中每個點的品種\n",
    "- 用 `matplotlib` 的 `contourf()` 函數來畫等高線圖\n",
    "\n",
    "```python\n",
    "import numpy as np\n",
    "import matplotlib.pyplot as plt\n",
    "\n",
    "Z = ppn.predict(np.array([xx1.ravel(), xx2.ravel()]).T)\n",
    "Z = Z.reshape(xx1.shape)\n",
    "plt.contourf(xx1, xx2, Z, alpha = 0.4, cmap = color_map)\n",
    "plt.xlim(xx1.min(), xx1.max())\n",
    "plt.ylim(xx2.min(), xx2.max())\n",
    "plt.show()\n",
    "```"
   ]
  },
  {
   "cell_type": "markdown",
   "metadata": {
    "slideshow": {
     "slide_type": "subslide"
    }
   },
   "source": [
    "## 繪製 Decision Region Plot（11）\n",
    "\n",
    "- 把資料點放上去\n",
    "\n",
    "```python\n",
    "for i in np.unique(y):\n",
    "    plt.scatter(x = X_std[y == i, 0], y = X_std[y == i, 1], marker = markers[i], alpha = 0.7, c = colors[i], label = i)\n",
    "```"
   ]
  },
  {
   "cell_type": "markdown",
   "metadata": {
    "slideshow": {
     "slide_type": "subslide"
    }
   },
   "source": [
    "## 繪製 Decision Region Plot（12）\n",
    "\n",
    "- 整理繪製 Decision Region Plot 的程式\n",
    "\n",
    "```python\n",
    "# 載入套件\n",
    "from sklearn import datasets\n",
    "from sklearn.preprocessing import StandardScaler\n",
    "from sklearn.model_selection import train_test_split\n",
    "from sklearn.linear_model import Perceptron\n",
    "import numpy as np\n",
    "from matplotlib.colors import ListedColormap\n",
    "import matplotlib.pyplot as plt\n",
    "\n",
    "# 讀入資料集\n",
    "iris = datasets.load_iris()\n",
    "X = iris.data[:, 0:2] # sepal length(cm) 與 sepal width(cm)\n",
    "y = iris.target\n",
    "\n",
    "# 標準化\n",
    "std_scaler = StandardScaler()\n",
    "std_scaler.fit(X)\n",
    "X_std = std_scaler.transform(X)\n",
    "\n",
    "# 切分訓練測試資料\n",
    "X_train, X_test, y_train, y_test = train_test_split(X_std, y, test_size = 0.3, random_state = 0)\n",
    "\n",
    "# 訓練模型\n",
    "ppn = Perceptron(n_iter = 40, eta0 = 0.1, random_state = 0)\n",
    "ppn.fit(X_train, y_train)\n",
    "\n",
    "# 準備標點的樣式與網格顏色\n",
    "markers = ('x', 'o', 's')\n",
    "colors = ('red', 'blue', 'green')\n",
    "color_map = ListedColormap(colors)\n",
    "\n",
    "# 定義 X 軸與 Y 軸的上下限\n",
    "x1_min, x1_max = X_std[:, 0].min() - 1, X_std[:, 0].max() + 1\n",
    "x2_min, x2_max = X_std[:, 1].min() - 1, X_std[:, 1].max() + 1\n",
    "\n",
    "# 網格陣列\n",
    "xx1, xx2 = np.meshgrid(np.arange(x1_min, x1_max, 0.02), np.arange(x2_min, x2_max, 0.02))\n",
    "\n",
    "# 繪圖\n",
    "Z = ppn.predict(np.array([xx1.ravel(), xx2.ravel()]).T)\n",
    "Z = Z.reshape(xx1.shape)\n",
    "plt.contourf(xx1, xx2, Z, alpha = 0.2, cmap = color_map)\n",
    "plt.xlim(xx1.min(), xx1.max())\n",
    "plt.ylim(xx2.min(), xx2.max())\n",
    "for i in np.unique(y):\n",
    "    plt.scatter(x = X_std[y == i, 0], y = X_std[y == i, 1], marker = markers[i], alpha = 0.7, c = colors[i], label = i)\n",
    "plt.xlabel('sepal length(standardized)')\n",
    "plt.ylabel('sepal width(standardized)')\n",
    "plt.legend(loc = 'upper left')\n",
    "plt.show()\n",
    "```"
   ]
  },
  {
   "cell_type": "markdown",
   "metadata": {
    "slideshow": {
     "slide_type": "slide"
    }
   },
   "source": [
    "## 預處理\n",
    "\n",
    "- 填補遺漏值\n",
    "- 轉換類別值\n",
    "- 標準化數值\n",
    "\n",
    "> The `sklearn.preprocessing` package provides several common utility functions and transformer classes to change raw feature vectors into a representation that is more suitable for the downstream estimators."
   ]
  },
  {
   "cell_type": "markdown",
   "metadata": {
    "slideshow": {
     "slide_type": "subslide"
    }
   },
   "source": [
    "## 填補遺漏值\n",
    "\n",
    "- 使用 `Imputer()` 函數\n",
    "- 可以指定 `strategy` 參數修改填補的方法\n",
    "- 可以指定 `axis` 參數指定 `strategy` 參數參考的維度\n",
    "\n",
    "```python\n",
    "from sklearn.preprocessing import Imputer\n",
    "import numpy as np\n",
    "\n",
    "imputer = Imputer(missing_values = 'NaN', strategy = 'mean', axis = 0)\n",
    "arr_before_imputed = np.array([\n",
    "    [1, 2, np.NaN, 4],\n",
    "    [5, np.NaN, 6, 7],\n",
    "    [8, 9, 10, 11]\n",
    "])\n",
    "imputer = imputer.fit(arr_before_imputed)\n",
    "imputed_arr = imputer.transform(arr_before_imputed)\n",
    "imputed_arr\n",
    "```"
   ]
  },
  {
   "cell_type": "markdown",
   "metadata": {
    "slideshow": {
     "slide_type": "subslide"
    }
   },
   "source": [
    "## 轉換類別值\n",
    "\n",
    "- 將類別標籤轉換為整數值\n",
    "- 使用 `LabelEncoder()` 方法\n",
    "\n",
    "```python\n",
    "from sklearn import preprocessing\n",
    "\n",
    "label_encoder = preprocessing.LabelEncoder()\n",
    "label_encoder.fit([\"female\", \"male\"])\n",
    "print(label_encoder.transform([\"female\", \"male\", \"male\", \"female\"]))\n",
    "label_encoder.fit([\"Q\", \"S\", \"C\"])\n",
    "print(label_encoder.transform([\"Q\", \"S\", \"C\", \"C\", \"S\"]))\n",
    "```"
   ]
  },
  {
   "cell_type": "markdown",
   "metadata": {
    "slideshow": {
     "slide_type": "subslide"
    }
   },
   "source": [
    "## 轉換類別值（2）\n",
    "\n",
    "- 將類別標籤利用 **One Hot Encoding** 轉換為 **dummy variables**\n",
    "- 使用 `pandas.get_dummies()` 方法\n",
    "\n",
    "```python\n",
    "import pandas as pd\n",
    "\n",
    "gender_df = pd.DataFrame({\n",
    "    \"gender\": [\"Male\", \"Female\", \"Male\"]\n",
    "})\n",
    "gender_df_dummies = pd.get_dummies(gender_df)\n",
    "gender_df_dummies\n",
    "```"
   ]
  },
  {
   "cell_type": "markdown",
   "metadata": {
    "slideshow": {
     "slide_type": "subslide"
    }
   },
   "source": [
    "## 標準化數值\n",
    "\n",
    "- 以資料之間距離作為根據的演算法（例如 **knn**）必須要讓數值資料的尺度一致\n",
    "- 有兩種常見的方法：\n",
    "    - `MinMaxScaler()`\n",
    "    - `StandardScaler()`"
   ]
  },
  {
   "cell_type": "markdown",
   "metadata": {
    "slideshow": {
     "slide_type": "subslide"
    }
   },
   "source": [
    "## 標準化數值（2）\n",
    "\n",
    "```python\n",
    "import numpy as np\n",
    "from sklearn.preprocessing import MinMaxScaler, StandardScaler\n",
    "\n",
    "simple_arr = np.arange(6, dtype = 'float64').reshape(6, 1)\n",
    "min_max_scaler = MinMaxScaler()\n",
    "std_scaler = StandardScaler()\n",
    "\n",
    "min_max_arr = min_max_scaler.fit_transform(simple_arr)\n",
    "print(min_max_arr)\n",
    "std_arr = std_scaler.fit_transform(simple_arr)\n",
    "print(std_arr)\n",
    "```"
   ]
  },
  {
   "cell_type": "markdown",
   "metadata": {
    "slideshow": {
     "slide_type": "subslide"
    }
   },
   "source": [
    "## 標準化數值（3）\n",
    "\n",
    "|輸入|最小最大化|標準化|\n",
    "|---|---------|-----|\n",
    "|0.0|0.0|-1.46385011|\n",
    "|1.0|0.2|-0.87831007|\n",
    "|2.0|0.4|-0.29277002|\n",
    "|3.0|0.6|0.29277002|\n",
    "|4.0|0.8|0.87831007|\n",
    "|5.0|1.0|1.46385011|"
   ]
  },
  {
   "cell_type": "markdown",
   "metadata": {
    "slideshow": {
     "slide_type": "slide"
    }
   },
   "source": [
    "## 分類\n",
    "\n",
    "> 藉由過去觀測到的分類類別來標籤、預測新數據的類別。\n",
    "\n",
    "- 資料點線性可分\n",
    "    - 感知器\n",
    "    - 羅吉斯迴歸\n",
    "    - 線性支持向量機\n",
    "- 資料點非線性可分\n",
    "    - 核心支持向量機\n",
    "    - 決策樹\n",
    "    - knn"
   ]
  },
  {
   "cell_type": "markdown",
   "metadata": {
    "slideshow": {
     "slide_type": "slide"
    }
   },
   "source": [
    "## 感知器\n",
    "\n",
    "> 透過單位階梯函數轉換成特徵（X）與權重（w）內積的輸出為 1 與 -1。\n",
    "\n",
    "![ppn](https://storage.googleapis.com/py_ml_images/ppn.png)\n",
    "\n",
    "Source: [Python Machine Learning](https://www.amazon.com/Python-Machine-Learning-Sebastian-Raschka-ebook/dp/B00YSILNL0)"
   ]
  },
  {
   "cell_type": "markdown",
   "metadata": {
    "slideshow": {
     "slide_type": "subslide"
    }
   },
   "source": [
    "## 感知器（2）\n",
    "\n",
    "- 使用 `sklearn` 實作感知器分類\n",
    "\n",
    "![](https://storage.googleapis.com/py_ml_images/ppn_iris_plot.png)\n",
    "\n",
    "[程式連結](https://github.com/yaojenkuo/py_ds_advanced/blob/master/py_ml_ppn.py)"
   ]
  },
  {
   "cell_type": "markdown",
   "metadata": {
    "slideshow": {
     "slide_type": "slide"
    }
   },
   "source": [
    "## 羅吉斯迴歸\n",
    "\n",
    "> 透過 sigmoid 函數轉換成變數與權重內積的輸出，再利用單位階梯函數轉換為二元的分類結果；或利用 OvR 轉換為多元的分類結果。\n",
    "\n",
    "![logistic regression](https://storage.googleapis.com/py_ml_images/logistic_regression.png)\n",
    "\n",
    "Source: [Python Machine Learning](https://www.amazon.com/Python-Machine-Learning-Sebastian-Raschka-ebook/dp/B00YSILNL0)"
   ]
  },
  {
   "cell_type": "markdown",
   "metadata": {
    "slideshow": {
     "slide_type": "subslide"
    }
   },
   "source": [
    "## 羅吉斯迴歸（2）\n",
    "\n",
    "- 使用 `sklearn` 實作羅吉斯迴歸分類\n",
    "\n",
    "![](https://storage.googleapis.com/py_ml_images/lr_iris_plot.png)\n",
    "\n",
    "[程式連結](https://github.com/yaojenkuo/py_ds_advanced/blob/master/py_ml_lr.py)"
   ]
  },
  {
   "cell_type": "markdown",
   "metadata": {
    "slideshow": {
     "slide_type": "slide"
    }
   },
   "source": [
    "## 線性支持向量機\n",
    "\n",
    "> 感知器的延伸，追求決策邊界的最大化。在實務上應用時與羅吉斯迴歸的表現相似，但是在處理極端值的能力上面較為優秀。\n",
    "\n",
    "![svc](https://storage.googleapis.com/py_ml_images/svc.png)\n",
    "\n",
    "Source: [Python Machine Learning](https://www.amazon.com/Python-Machine-Learning-Sebastian-Raschka-ebook/dp/B00YSILNL0)"
   ]
  },
  {
   "cell_type": "markdown",
   "metadata": {
    "slideshow": {
     "slide_type": "subslide"
    }
   },
   "source": [
    "## 線性支持向量機（2）\n",
    "\n",
    "- 使用 `sklearn` 實作線性支持向量機分類\n",
    "\n",
    "![](https://storage.googleapis.com/py_ml_images/svc_iris_plot.png)\n",
    "\n",
    "[程式連結](https://github.com/yaojenkuo/py_ds_advanced/blob/master/py_ml_svc.py)"
   ]
  },
  {
   "cell_type": "markdown",
   "metadata": {
    "slideshow": {
     "slide_type": "slide"
    }
   },
   "source": [
    "## 核心支持向量機\n",
    "\n",
    "> 藉由映射函數將資料投影到另一個特徵空間，再利用分離超平面進行分類。\n",
    "\n",
    "![](https://storage.googleapis.com/py_ml_images/svm.png)\n",
    "\n",
    "Source: [Support Vector Machines: A Simple Explanation](http://www.kdnuggets.com/2016/07/support-vector-machines-simple-explanation.html)"
   ]
  },
  {
   "cell_type": "markdown",
   "metadata": {
    "slideshow": {
     "slide_type": "subslide"
    }
   },
   "source": [
    "## 核心支持向量機（2）\n",
    "\n",
    "- 使用 `sklearn` 實作核心支持向量機分類\n",
    "\n",
    "![](https://storage.googleapis.com/py_ml_images/svc_kernel_iris_plot.png)\n",
    "\n",
    "[程式連結](https://github.com/yaojenkuo/py_ds_advanced/blob/master/py_ml_kernel_svc.py)"
   ]
  },
  {
   "cell_type": "markdown",
   "metadata": {
    "slideshow": {
     "slide_type": "slide"
    }
   },
   "source": [
    "## 決策樹\n",
    "\n",
    "> 依據特徵值將數據分割，並且在分割時選擇讓訊息增益最大的分割方式。\n",
    "\n",
    "![tree](https://storage.googleapis.com/py_ml_images/tree.png)\n",
    "\n",
    "Source: [Python Machine Learning](https://www.amazon.com/Python-Machine-Learning-Sebastian-Raschka-ebook/dp/B00YSILNL0)"
   ]
  },
  {
   "cell_type": "markdown",
   "metadata": {
    "slideshow": {
     "slide_type": "subslide"
    }
   },
   "source": [
    "## 決策樹（2）\n",
    "\n",
    "- 使用 `sklearn` 實作決策樹分類\n",
    "\n",
    "![](https://storage.googleapis.com/py_ml_images/tree_iris_plot.png)\n",
    "\n",
    "[程式連結](https://github.com/yaojenkuo/py_ds_advanced/blob/master/py_ml_tree.py)"
   ]
  },
  {
   "cell_type": "markdown",
   "metadata": {
    "slideshow": {
     "slide_type": "slide"
    }
   },
   "source": [
    "## knn\n",
    "\n",
    "> 在一個固定距離中選擇 k 個臨近資料點再依據多數決決定資料點的類別。\n",
    "\n",
    "![knn](https://storage.googleapis.com/py_ml_images/knn.png)\n",
    "\n",
    "Source: [Python Machine Learning](https://www.amazon.com/Python-Machine-Learning-Sebastian-Raschka-ebook/dp/B00YSILNL0)"
   ]
  },
  {
   "cell_type": "markdown",
   "metadata": {
    "slideshow": {
     "slide_type": "subslide"
    }
   },
   "source": [
    "## knn（2）\n",
    "\n",
    "- 使用 `sklearn` 實作 knn 分類\n",
    "\n",
    "![](https://storage.googleapis.com/py_ml_images/knn_iris_plot.png)\n",
    "\n",
    "[程式連結](https://github.com/yaojenkuo/py_ds_advanced/blob/master/py_ml_knn.py)"
   ]
  },
  {
   "cell_type": "markdown",
   "metadata": {
    "slideshow": {
     "slide_type": "slide"
    }
   },
   "source": [
    "## 第一次上傳\n",
    "\n",
    "- 我們要練習的是預測 **test.csv** 資料集中的 **survival** 變數\n",
    "- 用來訓練與測試的資料即是 **test.csv** 資料集\n",
    "- 這是來自 [Kaggle](https://www.kaggle.com/) 的分類模型競賽 [Titanic: Machine Learning from Disaster](https://www.kaggle.com/c/titanic)\n",
    "- 資料集的變數：\n",
    "\n",
    "|變數|描述|\n",
    "|---|----|\n",
    "|survival|存活與否，\t0 = 歿、1 = 存|\n",
    "|pclass|社經地位，1 = 高、2 = 中、3 = 低|\n",
    "|sex|性別|\n",
    "|Age|年齡|\n",
    "|sibsp|船上旁系親屬的人數|\n",
    "|parch|船上直系親屬的人數|\n",
    "|ticket|船票編號|\n",
    "|fare|船票價格|\n",
    "|cabin|船艙編號|\n",
    "|embarked|登船港口，C = Cherbourg、Q = Queenstown、S = Southampton|"
   ]
  },
  {
   "cell_type": "markdown",
   "metadata": {
    "slideshow": {
     "slide_type": "subslide"
    }
   },
   "source": [
    "## 第一次上傳（2）\n",
    "\n",
    "- 流程：\n",
    "\n",
    "|步驟|內容|\n",
    "|---|----|\n",
    "|第一步|暸解資料外觀與內容|\n",
    "|第二步|資料預處理|\n",
    "|第三步|切割訓練測試資料|\n",
    "|第四步|分類器|\n",
    "|第五步|預測、模型評估|\n",
    "|第六步|應用預測資料|\n",
    "|第七步|上傳|"
   ]
  },
  {
   "cell_type": "markdown",
   "metadata": {
    "slideshow": {
     "slide_type": "subslide"
    }
   },
   "source": [
    "## 第一次上傳（3）\n",
    "\n",
    "- 第一步：暸解資料外觀與內容\n",
    "\n",
    "```python\n",
    "import pandas as pd\n",
    "\n",
    "train_url = \"https://storage.googleapis.com/py_ml_datasets/train.csv\"\n",
    "train = pd.read_csv(train_url)\n",
    "print(\"前五個觀測值：\")\n",
    "print(train.head())\n",
    "print(\"-----\")\n",
    "print(\"外觀：\", train.shape)\n",
    "print(\"-----\")\n",
    "print(\"遺漏值：\")\n",
    "print(train.isnull().sum())\n",
    "```"
   ]
  },
  {
   "cell_type": "markdown",
   "metadata": {
    "slideshow": {
     "slide_type": "subslide"
    }
   },
   "source": [
    "## 第一次上傳（4）\n",
    "\n",
    "- 第二步：資料預處理\n",
    "    - 選取有意義的特徵變數（剔除編號、姓名與遺漏值過多的變數）\n",
    "    \n",
    "```python\n",
    "# 選取有意義的特徵變數\n",
    "train = train.ix[:, [\"Survived\", \"Pclass\", \"Sex\", \"Age\", \"SibSp\", \"Parch\", \"Fare\", \"Embarked\"]]\n",
    "train.head()\n",
    "```"
   ]
  },
  {
   "cell_type": "markdown",
   "metadata": {
    "slideshow": {
     "slide_type": "subslide"
    }
   },
   "source": [
    "## 第一次上傳（5）\n",
    "\n",
    "- 第二步：資料預處理\n",
    "    - 填補遺漏值（`Age` 與 `Embarked`）\n",
    "\n",
    "```python\n",
    "import numpy as np\n",
    "\n",
    "# Embarked 以出現最多的填補\n",
    "print(train.Embarked.value_counts())\n",
    "imputed_embarked = np.where(train.Embarked.isnull(), train.Embarked.value_counts().index[0], train.Embarked)\n",
    "train.Embarked = imputed_embarked # 完成 Embarked 的填補\n",
    "\n",
    "# 依照 Pclass 的平均年齡填補\n",
    "grouped = train.ix[:, [\"Pclass\", \"Age\"]]\n",
    "grouped = grouped.groupby(\"Pclass\")\n",
    "mean_age_by_Pclass = grouped.mean().round(0)\n",
    "train_P_1 = train[train.Pclass == 1].fillna(mean_age_by_Pclass.ix[1, \"Age\"])\n",
    "train_P_2 = train[train.Pclass == 2].fillna(mean_age_by_Pclass.ix[2, \"Age\"])\n",
    "train_P_3 = train[train.Pclass == 3].fillna(mean_age_by_Pclass.ix[3, \"Age\"])\n",
    "imputed_train = pd.concat([train_P_1, train_P_2, train_P_3]) # 完成 Age 的填補\n",
    "```"
   ]
  },
  {
   "cell_type": "markdown",
   "metadata": {
    "slideshow": {
     "slide_type": "subslide"
    }
   },
   "source": [
    "## 第一次上傳（6）\n",
    "\n",
    "- 第二步：資料預處理\n",
    "    - 轉換類別變數（`Sex` 與 `Embarked`）\n",
    "\n",
    "```python\n",
    "sex_embarked_df_dummies = pd.get_dummies(imputed_train.ix[:, [\"Sex\", \"Embarked\"]])\n",
    "sex_embarked_df_dummies\n",
    "```"
   ]
  },
  {
   "cell_type": "markdown",
   "metadata": {
    "slideshow": {
     "slide_type": "subslide"
    }
   },
   "source": [
    "## 第一次上傳（7）\n",
    "\n",
    "- 第二步：資料預處理\n",
    "    - 把預處理過的資料整理起來\n",
    "\n",
    "```python\n",
    "preproc_train = pd.DataFrame([\n",
    "   imputed_train.Survived,\n",
    "   imputed_train.Pclass,\n",
    "   imputed_train.Age,\n",
    "   imputed_train.SibSp,\n",
    "   imputed_train.Parch,\n",
    "   imputed_train.Fare,\n",
    "   sex_embarked_df_dummies.Sex_female,\n",
    "   sex_embarked_df_dummies.Sex_male,\n",
    "   sex_embarked_df_dummies.Embarked_C,\n",
    "   sex_embarked_df_dummies.Embarked_Q,\n",
    "   sex_embarked_df_dummies.Embarked_S\n",
    "]).T\n",
    "print(preproc_train.shape)\n",
    "preproc_train.head()\n",
    "```"
   ]
  },
  {
   "cell_type": "markdown",
   "metadata": {
    "slideshow": {
     "slide_type": "subslide"
    }
   },
   "source": [
    "## 第一次上傳（8）\n",
    "\n",
    "- 第三步：切割訓練測試資料\n",
    "\n",
    "```python\n",
    "from sklearn.model_selection import train_test_split\n",
    "\n",
    "preproc_train_y = preproc_train.ix[:, 0]\n",
    "preproc_train_X = preproc_train.ix[:, 1:]\n",
    "train_X, test_X, train_y, test_y = train_test_split(preproc_train_X, preproc_train_y, test_size = 0.3)\n",
    "```"
   ]
  },
  {
   "cell_type": "markdown",
   "metadata": {
    "slideshow": {
     "slide_type": "subslide"
    }
   },
   "source": [
    "## 第一次上傳（6）\n",
    "\n",
    "- 第四步：分類器\n",
    "\n",
    "```python\n",
    "from sklearn import tree\n",
    "\n",
    "# 建立模型\n",
    "decison_clf = tree.DecisionTreeClassifier(criterion = 'entropy', max_depth = 5, random_state = 0)\n",
    "decison_clf.fit(train_X, train_y)\n",
    "```"
   ]
  },
  {
   "cell_type": "markdown",
   "metadata": {
    "slideshow": {
     "slide_type": "subslide"
    }
   },
   "source": [
    "## 第一次上傳（7）\n",
    "\n",
    "- 第五步：預測、模型評估\n",
    "\n",
    "```python\n",
    "from sklearn import metrics\n",
    "\n",
    "# 預測\n",
    "test_y_predicted = decison_clf.predict(test_X)\n",
    "\n",
    "# 準確率\n",
    "accuracy = metrics.accuracy_score(test_y, test_y_predicted)\n",
    "print(accuracy)\n",
    "```"
   ]
  },
  {
   "cell_type": "markdown",
   "metadata": {
    "slideshow": {
     "slide_type": "subslide"
    }
   },
   "source": [
    "## 第一次上傳（8）\n",
    "\n",
    "- 第六步：應用預測資料\n",
    "    - 讀入預測資料\n",
    "\n",
    "```python\n",
    "test_url = \"https://storage.googleapis.com/py_ml_datasets/test.csv\"\n",
    "test = pd.read_csv(test_url)\n",
    "print(\"前五個觀測值：\")\n",
    "print(test.head())\n",
    "print(\"-----\")\n",
    "print(\"外觀：\", test.shape)\n",
    "print(\"-----\")\n",
    "print(\"遺漏值：\")\n",
    "print(test.isnull().sum())\n",
    "```"
   ]
  },
  {
   "cell_type": "markdown",
   "metadata": {
    "slideshow": {
     "slide_type": "subslide"
    }
   },
   "source": [
    "## 第一次上傳（9）\n",
    "\n",
    "- 第六步：應用預測資料\n",
    "    - 選取有意義的特徵變數（剔除編號、姓名與遺漏值過多的變數）\n",
    "\n",
    "```python\n",
    "# 選取有意義的特徵變數\n",
    "test = test.ix[:, [\"Pclass\", \"Sex\", \"Age\", \"SibSp\", \"Parch\", \"Fare\", \"Embarked\"]]\n",
    "test.head()\n",
    "```"
   ]
  },
  {
   "cell_type": "markdown",
   "metadata": {
    "slideshow": {
     "slide_type": "subslide"
    }
   },
   "source": [
    "## 第一次上傳（10）\n",
    "\n",
    "- 第六步：應用預測資料\n",
    "    - 填補遺漏值（`Age` 與 `Fare`）\n",
    "\n",
    "```python\n",
    "import numpy as np\n",
    "\n",
    "# Fare 以平均數填補\n",
    "imputed_fare = np.where(test.Fare.isnull(), test.Fare.mean(), test.Fare)\n",
    "test.Fare = imputed_fare # 完成 Fare 的填補\n",
    "\n",
    "# 依照 Pclass 的平均年齡填補\n",
    "grouped = test.ix[:, [\"Pclass\", \"Age\"]]\n",
    "grouped = grouped.groupby(\"Pclass\")\n",
    "mean_age_by_Pclass = grouped.mean().round(0)\n",
    "test_P_1 = test[test.Pclass == 1].fillna(mean_age_by_Pclass.ix[1, \"Age\"])\n",
    "test_P_2 = test[test.Pclass == 2].fillna(mean_age_by_Pclass.ix[2, \"Age\"])\n",
    "test_P_3 = test[test.Pclass == 3].fillna(mean_age_by_Pclass.ix[3, \"Age\"])\n",
    "imputed_test = pd.concat([test_P_1, test_P_2, test_P_3]) # 完成 Age 的填補\n",
    "```"
   ]
  },
  {
   "cell_type": "markdown",
   "metadata": {
    "slideshow": {
     "slide_type": "subslide"
    }
   },
   "source": [
    "## 第一次上傳（11）\n",
    "\n",
    "- 第六步：應用預測資料\n",
    "    - 轉換類別變數（`Sex` 與 `Embarked`）\n",
    "\n",
    "```python\n",
    "sex_embarked_df_dummies = pd.get_dummies(imputed_test.ix[:, [\"Sex\", \"Embarked\"]])\n",
    "sex_embarked_df_dummies\n",
    "```"
   ]
  },
  {
   "cell_type": "markdown",
   "metadata": {
    "slideshow": {
     "slide_type": "subslide"
    }
   },
   "source": [
    "## 第一次上傳（12）\n",
    "\n",
    "- 第六步：應用預測資料\n",
    "    - 把預處理過的資料整理起來\n",
    "\n",
    "```python\n",
    "preproc_test_X = pd.DataFrame([\n",
    "   imputed_test.Pclass,\n",
    "   imputed_test.Age,\n",
    "   imputed_test.SibSp,\n",
    "   imputed_test.Parch,\n",
    "   imputed_test.Fare,\n",
    "   sex_embarked_df_dummies.Sex_female,\n",
    "   sex_embarked_df_dummies.Sex_male,\n",
    "   sex_embarked_df_dummies.Embarked_C,\n",
    "   sex_embarked_df_dummies.Embarked_Q,\n",
    "   sex_embarked_df_dummies.Embarked_S\n",
    "]).T\n",
    "print(preproc_test_X.shape)\n",
    "preproc_test_X.head()\n",
    "```"
   ]
  },
  {
   "cell_type": "markdown",
   "metadata": {
    "slideshow": {
     "slide_type": "subslide"
    }
   },
   "source": [
    "## 第一次上傳（13）\n",
    "\n",
    "- 第六步：應用預測資料\n",
    "    - 預測\n",
    "\n",
    "```python\n",
    "# 預測\n",
    "prediction = decison_clf.predict(preproc_test_X)\n",
    "```"
   ]
  },
  {
   "cell_type": "markdown",
   "metadata": {
    "slideshow": {
     "slide_type": "subslide"
    }
   },
   "source": [
    "## 第一次上傳（14）\n",
    "\n",
    "- 第七步：\n",
    "    - 參考 [Submission File Format](https://www.kaggle.com/c/titanic#evaluation) 整理一下上傳檔案\n",
    "\n",
    "```python\n",
    "test_url = \"https://storage.googleapis.com/py_ml_datasets/test.csv\"\n",
    "test = pd.read_csv(test_url)\n",
    "\n",
    "# 跟 PassengerId 合併\n",
    "prediction_series = pd.Series(prediction, index = preproc_test_X.index)\n",
    "prediction_series = prediction_series.astype(int)\n",
    "submission_df = pd.concat([test.PassengerId, prediction_series], axis = 1)\n",
    "submission_df.columns = [\"PassengerId\", \"Survived\"]\n",
    "\n",
    "# 輸出成 csv\n",
    "submission_df.to_csv(\"submission.csv\", index = False)\n",
    "```"
   ]
  },
  {
   "cell_type": "markdown",
   "metadata": {
    "slideshow": {
     "slide_type": "subslide"
    }
   },
   "source": [
    "## 第一次上傳（15）\n",
    "\n",
    "- 第七步：\n",
    "    - 上傳\n",
    "\n",
    "![First Submission](https://storage.googleapis.com/py_ml_images/first_submission.png)\n",
    "\n",
    "- 我們對這個結果不太滿意！可以怎麼樣精進？"
   ]
  },
  {
   "cell_type": "markdown",
   "metadata": {
    "slideshow": {
     "slide_type": "slide"
    }
   },
   "source": [
    "## 精進方式\n",
    "\n",
    "- 網格搜尋\n",
    "- 整體學習"
   ]
  },
  {
   "cell_type": "markdown",
   "metadata": {
    "slideshow": {
     "slide_type": "slide"
    }
   },
   "source": [
    "## 網格搜尋\n",
    "\n",
    "> 透過代入大量參數來驗證什麼樣的參數設定最佳。\n",
    "\n",
    "- 在使用分類器的時候都會遭遇到**參數調校**的問題\n",
    "- 我們可以藉由**網格搜尋（Grid Search）**來找一組合適的參數"
   ]
  },
  {
   "cell_type": "markdown",
   "metadata": {
    "slideshow": {
     "slide_type": "subslide"
    }
   },
   "source": [
    "## 網格搜尋（2）\n",
    "\n",
    "- 透過 `sklearn.grid_search` 實作網格搜尋\n",
    "\n",
    "```python\n",
    "# 載入套件\n",
    "from sklearn.svm import SVC\n",
    "from sklearn.grid_search import GridSearchCV\n",
    "\n",
    "# 初始化分類器\n",
    "svm = SVC(random_state = 0)\n",
    "\n",
    "# 建立網格\n",
    "param_grid = [\n",
    "    {'C': [1, 10, 100, 1000, 10000],\n",
    "     'kernel': ['linear']\n",
    "    },\n",
    "    {'C': [1, 10, 100, 1000, 10000],\n",
    "     'gamma': [0.1, 0.01, 0.001, 0.0001],\n",
    "     'kernel': ['rbf']\n",
    "    }\n",
    "]\n",
    "\n",
    "# 初始化網格搜索\n",
    "gs = GridSearchCV(estimator = svm,\n",
    "    param_grid = param_grid,\n",
    "    scoring = 'accuracy',\n",
    "    cv = 10,\n",
    "    n_jobs = -1\n",
    ")\n",
    "gs.fit(X_train, y_train)\n",
    "print(gs.best_score_)\n",
    "print(gs.best_params_)\n",
    "\n",
    "# 使用最佳參數套用到測試資料\n",
    "clf = gs.best_estimator_\n",
    "clf.fit(X_train, y_train)\n",
    "print(clf.score(X_test, y_test))\n",
    "```"
   ]
  },
  {
   "cell_type": "markdown",
   "metadata": {
    "slideshow": {
     "slide_type": "slide"
    }
   },
   "source": [
    "## 整體學習\n",
    "\n",
    "> 讓多個分類器結合多數決、袋裝法或權重投票等決策方式來提高模型預測的準確度。\n",
    "\n",
    "![ensemble](https://storage.googleapis.com/py_ml_images/ensemble.png)\n",
    "\n",
    "Source: [Python Machine Learning](https://www.amazon.com/Python-Machine-Learning-Sebastian-Raschka-ebook/dp/B00YSILNL0)"
   ]
  },
  {
   "cell_type": "markdown",
   "metadata": {
    "slideshow": {
     "slide_type": "subslide"
    }
   },
   "source": [
    "## 整體學習（2）\n",
    "\n",
    "- 透過 `sklearn.ensemble` 實作整體學習：`VotingClassifier`\n",
    "\n",
    "```python\n",
    "from sklearn.linear_model import LogisticRegression\n",
    "from sklearn.tree import DecisionTreeClassifier\n",
    "from sklearn.neighbors import KNeighborsClassifier\n",
    "from sklearn.model_selection import cross_val_score\n",
    "from sklearn.ensemble import VotingClassifier\n",
    "\n",
    "# 初始化分類器\n",
    "clf1 = LogisticRegression(random_state = 0)\n",
    "clf2 = DecisionTreeClassifier(random_state = 0, max_depth = 3, criterion = 'entropy')\n",
    "clf3 = KNeighborsClassifier(n_neighbors = 5, p = 2, metric = 'minkowski')\n",
    "\n",
    "# 初始化整體學習\n",
    "e_clf = VotingClassifier(estimators = [('lr', clf1), ('tree', clf2), ('knn', clf3)], voting = 'hard')\n",
    "for clf, label in zip([clf1, clf2, clf3, e_clf], ['Logistic Regression', 'Decision Tree', 'KNN', 'Ensembled']):\n",
    "    scores = cross_val_score(clf, X = X_train, y = y_train, cv = 10, scoring = 'accuracy')\n",
    "    print(\"Accuracy: %0.2f [%s]\" % (scores.mean(), label))\n",
    "```"
   ]
  },
  {
   "cell_type": "markdown",
   "metadata": {
    "slideshow": {
     "slide_type": "subslide"
    }
   },
   "source": [
    "## 整體學習（3）\n",
    "\n",
    "- 將網格搜尋與整體學習結合：\n",
    "\n",
    "```python\n",
    "from sklearn.linear_model import LogisticRegression\n",
    "from sklearn.tree import DecisionTreeClassifier\n",
    "from sklearn.neighbors import KNeighborsClassifier\n",
    "from sklearn.model_selection import cross_val_score\n",
    "from sklearn.ensemble import VotingClassifier\n",
    "from sklearn.grid_search import GridSearchCV\n",
    "\n",
    "# 初始化分類器\n",
    "clf1 = LogisticRegression(random_state = 0)\n",
    "clf2 = DecisionTreeClassifier(random_state = 0, criterion = 'entropy')\n",
    "clf3 = KNeighborsClassifier(p = 2, metric = 'minkowski')\n",
    "\n",
    "# 初始化整體學習\n",
    "e_clf = VotingClassifier(estimators = [('lr', clf1), ('tree', clf2), ('knn', clf3)], voting = 'hard')\n",
    "\n",
    "# 網格搜尋\n",
    "params = {'lr__C': [1.0, 10.0, 100.0],\n",
    "          'tree__max_depth': [1, 2, 3, 4, 5],\n",
    "          'knn__n_neighbors': [3, 5, 7],\n",
    "}\n",
    "gs = GridSearchCV(estimator = e_clf, param_grid = params, cv = 10, n_jobs = -1)\n",
    "gs.fit(X_train, y_train)\n",
    "clf = gs.best_estimator_\n",
    "clf.fit(X_train, y_train)\n",
    "print(clf.score(X_test, y_test))\n",
    "```"
   ]
  },
  {
   "cell_type": "markdown",
   "metadata": {
    "slideshow": {
     "slide_type": "slide"
    }
   },
   "source": [
    "## 第二次上傳\n",
    "\n",
    "- 修正一下流程：\n",
    "\n",
    "|步驟|內容|\n",
    "|---|----|\n",
    "|第一步|資料預處理（train.csv、test.csv）|\n",
    "|第二步|分類器|\n",
    "|第三步|預測|\n",
    "|第四步|上傳|"
   ]
  },
  {
   "cell_type": "markdown",
   "metadata": {
    "slideshow": {
     "slide_type": "subslide"
    }
   },
   "source": [
    "## 第二次上傳（2）\n",
    "\n",
    "- 第一步：資料預處理\n",
    "\n",
    "```python\n",
    "import pandas as pd\n",
    "import numpy as np\n",
    "from sklearn.model_selection import train_test_split\n",
    "from sklearn.preprocessing import StandardScaler\n",
    "\n",
    "train_url = \"https://storage.googleapis.com/py_ml_datasets/train.csv\"\n",
    "train = pd.read_csv(train_url)\n",
    "\n",
    "# 選取有意義的特徵變數\n",
    "train = train.ix[:, [\"Survived\", \"Pclass\", \"Sex\", \"Age\", \"SibSp\", \"Parch\", \"Fare\", \"Embarked\"]]\n",
    "\n",
    "# Embarked 以出現最多的填補\n",
    "imputed_embarked = np.where(train.Embarked.isnull(), train.Embarked.value_counts().index[0], train.Embarked)\n",
    "train.Embarked = imputed_embarked # 完成 Embarked 的填補\n",
    "\n",
    "# 依照 Pclass 的平均年齡填補\n",
    "grouped = train.ix[:, [\"Pclass\", \"Age\"]]\n",
    "grouped = grouped.groupby(\"Pclass\")\n",
    "mean_age_by_Pclass = grouped.mean().round(0)\n",
    "train_P_1 = train[train.Pclass == 1].fillna(mean_age_by_Pclass.ix[1, \"Age\"])\n",
    "train_P_2 = train[train.Pclass == 2].fillna(mean_age_by_Pclass.ix[2, \"Age\"])\n",
    "train_P_3 = train[train.Pclass == 3].fillna(mean_age_by_Pclass.ix[3, \"Age\"])\n",
    "imputed_train = pd.concat([train_P_1, train_P_2, train_P_3]) # 完成 Age 的填補\n",
    "\n",
    "# 轉換類別變數\n",
    "sex_embarked_df_dummies = pd.get_dummies(imputed_train.ix[:, [\"Sex\", \"Embarked\"]])\n",
    "sex_embarked_df_dummies\n",
    "\n",
    "# 預處理完成的資料\n",
    "preproc_train = pd.DataFrame([\n",
    "   imputed_train.Survived,\n",
    "   imputed_train.Pclass,\n",
    "   imputed_train.Age,\n",
    "   imputed_train.SibSp,\n",
    "   imputed_train.Parch,\n",
    "   imputed_train.Fare,\n",
    "   sex_embarked_df_dummies.Sex_female,\n",
    "   sex_embarked_df_dummies.Sex_male,\n",
    "   sex_embarked_df_dummies.Embarked_C,\n",
    "   sex_embarked_df_dummies.Embarked_Q,\n",
    "   sex_embarked_df_dummies.Embarked_S\n",
    "]).T\n",
    "preproc_train_y = preproc_train.ix[:, 0]\n",
    "preproc_train_X = preproc_train.ix[:, 1:]\n",
    "\n",
    "# 切割訓練測試資料\n",
    "train_X, test_X, train_y, test_y = train_test_split(preproc_train_X, preproc_train_y, test_size = 0.3)\n",
    "\n",
    "# 標準化 preproc_train_X\n",
    "stdsc = StandardScaler()\n",
    "train_X_std = stdsc.fit_transform(train_X)\n",
    "test_X_std = stdsc.fit(test_X)\n",
    "\n",
    "# test.csv\n",
    "test_url = \"https://storage.googleapis.com/py_ml_datasets/test.csv\"\n",
    "test = pd.read_csv(test_url)\n",
    "test = test.ix[:, [\"Pclass\", \"Sex\", \"Age\", \"SibSp\", \"Parch\", \"Fare\", \"Embarked\"]]\n",
    "\n",
    "# Fare 以平均數填補\n",
    "imputed_fare = np.where(test.Fare.isnull(), test.Fare.mean(), test.Fare)\n",
    "test.Fare = imputed_fare # 完成 Fare 的填補\n",
    "\n",
    "# 依照 Pclass 的平均年齡填補\n",
    "grouped = test.ix[:, [\"Pclass\", \"Age\"]]\n",
    "grouped = grouped.groupby(\"Pclass\")\n",
    "mean_age_by_Pclass = grouped.mean().round(0)\n",
    "test_P_1 = test[test.Pclass == 1].fillna(mean_age_by_Pclass.ix[1, \"Age\"])\n",
    "test_P_2 = test[test.Pclass == 2].fillna(mean_age_by_Pclass.ix[2, \"Age\"])\n",
    "test_P_3 = test[test.Pclass == 3].fillna(mean_age_by_Pclass.ix[3, \"Age\"])\n",
    "imputed_test = pd.concat([test_P_1, test_P_2, test_P_3]) # 完成 Age 的填補\n",
    "\n",
    "# 轉換類別資料\n",
    "sex_embarked_df_dummies = pd.get_dummies(imputed_test.ix[:, [\"Sex\", \"Embarked\"]])\n",
    "sex_embarked_df_dummies\n",
    "\n",
    "# 預處理完成的資料\n",
    "preproc_test_X = pd.DataFrame([\n",
    "   imputed_test.Pclass,\n",
    "   imputed_test.Age,\n",
    "   imputed_test.SibSp,\n",
    "   imputed_test.Parch,\n",
    "   imputed_test.Fare,\n",
    "   sex_embarked_df_dummies.Sex_female,\n",
    "   sex_embarked_df_dummies.Sex_male,\n",
    "   sex_embarked_df_dummies.Embarked_C,\n",
    "   sex_embarked_df_dummies.Embarked_Q,\n",
    "   sex_embarked_df_dummies.Embarked_S\n",
    "]).T\n",
    "\n",
    "# 標準化 preproc_test_X\n",
    "stdsc = StandardScaler()\n",
    "preproc_test_X_std = stdsc.fit_transform(preproc_test_X)\n",
    "preproc_test_X_std = stdsc.fit_transform(preproc_test_X_std)\n",
    "```"
   ]
  },
  {
   "cell_type": "markdown",
   "metadata": {
    "slideshow": {
     "slide_type": "subslide"
    }
   },
   "source": [
    "## 第二次上傳（3）\n",
    "\n",
    "- 第二步：分類器\n",
    "\n",
    "```python\n",
    "from sklearn.ensemble import RandomForestClassifier\n",
    "from sklearn.neighbors import KNeighborsClassifier\n",
    "from sklearn.svm import SVC\n",
    "from sklearn.model_selection import cross_val_score\n",
    "from sklearn.ensemble import VotingClassifier\n",
    "from sklearn.grid_search import GridSearchCV\n",
    "\n",
    "# 訓練\n",
    "clf1 = RandomForestClassifier(n_estimators = 500)\n",
    "clf2 = KNeighborsClassifier(p = 2, metric = 'minkowski', n_neighbors = 11)\n",
    "clf3 = SVC(kernel='rbf', C = 1, gamma = 1000, random_state = 0)\n",
    "clf4 = SVC(kernel='linear', C = 1, gamma = 1000, random_state = 0)\n",
    "clf5 = LogisticRegression(C = 100, random_state = 0)\n",
    "\n",
    "e_clf = VotingClassifier(estimators = [('rf', clf1), ('knn', clf2), ('svc_k', clf3), ('svc_l', clf4), ('lr', clf5)], voting = 'hard')\n",
    "scores = cross_val_score(e_clf, train_X_std, train_y, cv = 10, scoring='accuracy')\n",
    "scores.mean()\n",
    "```"
   ]
  },
  {
   "cell_type": "markdown",
   "metadata": {
    "slideshow": {
     "slide_type": "subslide"
    }
   },
   "source": [
    "## 第二次上傳（4）\n",
    "\n",
    "- 第三步：預測\n",
    "\n",
    "```python\n",
    "# 預測\n",
    "e_clf = e_clf.fit(train_X_std, train_y)\n",
    "prediction = e_clf.predict(preproc_test_X_std)\n",
    "```"
   ]
  },
  {
   "cell_type": "markdown",
   "metadata": {
    "slideshow": {
     "slide_type": "subslide"
    }
   },
   "source": [
    "## 第二次上傳（5）\n",
    "\n",
    "- 第四步：上傳\n",
    "\n",
    "```python\n",
    "test_url = \"https://storage.googleapis.com/py_ml_datasets/test.csv\"\n",
    "test = pd.read_csv(test_url)\n",
    "\n",
    "# 跟 PassengerId 合併\n",
    "prediction_series = pd.Series(prediction, index = preproc_test_X.index)\n",
    "prediction_series = prediction_series.astype(int)\n",
    "submission_df = pd.concat([test.PassengerId, prediction_series], axis = 1)\n",
    "submission_df.columns = [\"PassengerId\", \"Survived\"]\n",
    "\n",
    "# 輸出成 csv\n",
    "submission_df.to_csv(\"submission.csv\", index = False)\n",
    "```"
   ]
  },
  {
   "cell_type": "markdown",
   "metadata": {
    "slideshow": {
     "slide_type": "subslide"
    }
   },
   "source": [
    "## 第二次上傳（6）\n",
    "\n",
    "![](https://storage.googleapis.com/py_ml_images/second_submission.png)\n",
    "\n",
    "- 這次的結果比第一次上傳還好！（示意，試圖得到更好的結果）"
   ]
  },
  {
   "cell_type": "markdown",
   "metadata": {
    "slideshow": {
     "slide_type": "slide"
    }
   },
   "source": [
    "# End of Slides"
   ]
  }
 ],
 "metadata": {
  "celltoolbar": "Slideshow",
  "kernelspec": {
   "display_name": "Python 3",
   "language": "python",
   "name": "python3"
  },
  "language_info": {
   "codemirror_mode": {
    "name": "ipython",
    "version": 3
   },
   "file_extension": ".py",
   "mimetype": "text/x-python",
   "name": "python",
   "nbconvert_exporter": "python",
   "pygments_lexer": "ipython3",
   "version": "3.6.0"
  }
 },
 "nbformat": 4,
 "nbformat_minor": 2
}
