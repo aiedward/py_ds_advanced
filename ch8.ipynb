{
 "cells": [
  {
   "cell_type": "markdown",
   "metadata": {
    "slideshow": {
     "slide_type": "slide"
    }
   },
   "source": [
    "# 預處理\n",
    "\n",
    "## 郭耀仁"
   ]
  },
  {
   "cell_type": "markdown",
   "metadata": {
    "slideshow": {
     "slide_type": "slide"
    }
   },
   "source": [
    "## 遺漏值\n",
    "\n",
    "- `sklearn.preprocessing` 的 `Imputer()` 方法\n",
    "\n",
    "```python\n",
    "from sklean.preprocessing import Imputer\n",
    "\n",
    "imr = Imputer(missing_values = \"NaN\", strategy = \"mean\", axis = 0)\n",
    "imr = imr.fit(X)\n",
    "imputed_data = imr.transform(X.values)\n",
    "```"
   ]
  },
  {
   "cell_type": "markdown",
   "metadata": {
    "slideshow": {
     "slide_type": "subslide"
    }
   },
   "source": [
    "## 遺漏值（2）\n",
    "\n",
    "- 可以用最頻繁出現的值 `strategy = \"most_frequent\"`\n",
    "\n",
    "```python\n",
    "from sklean.preprocessing import Imputer\n",
    "\n",
    "imr = Imputer(missing_values = \"NaN\", strategy = \"most_frequent\", axis = 0)\n",
    "imr = imr.fit(X)\n",
    "imputed_data = imr.transform(X.values)\n",
    "imputed_data\n",
    "```"
   ]
  },
  {
   "cell_type": "markdown",
   "metadata": {
    "collapsed": false,
    "slideshow": {
     "slide_type": "slide"
    }
   },
   "source": [
    "## 類別值\n",
    "\n",
    "- `sklearn.preprocessing` 的 `LabelEncoder`\n",
    "\n",
    "```python\n",
    "from sklearn.preprocessing import LabelEncoder\n",
    "\n",
    "lab_encoder = LabelEncoder()\n",
    "y = lab_encoder.fit_transform(X[\"classlabel\"].values)\n",
    "y\n",
    "```"
   ]
  },
  {
   "cell_type": "markdown",
   "metadata": {
    "slideshow": {
     "slide_type": "subslide"
    }
   },
   "source": [
    "## 類別值（2）\n",
    "\n",
    "- `sklearn.preprocessing` 的 `OneHotEncoder`\n",
    "\n",
    "```python\n",
    "from sklearn.preprocessing import OneHotEncoder\n",
    "ohe = OneHotEncoder(categorical_features=[0])\n",
    "y = ohe.fit_transform(X).toarray()\n",
    "y\n",
    "```"
   ]
  },
  {
   "cell_type": "markdown",
   "metadata": {
    "slideshow": {
     "slide_type": "slide"
    }
   },
   "source": [
    "## 切分訓練與測試資料\n",
    "\n",
    "- `sklearn.cross_validation` 的 `train_test_split`\n",
    "\n",
    "```python\n",
    "from sklearn.cross_validation import train_test_split\n",
    "X_train, X_test, y_train, y_test = train_test_split(X, y, test_size = 0.3, random_state = 87)\n",
    "```"
   ]
  },
  {
   "cell_type": "markdown",
   "metadata": {
    "slideshow": {
     "slide_type": "slide"
    }
   },
   "source": [
    "## 標準化\n",
    "\n",
    "- `sklearn.preprocessing` 的 `MinMaxScaler`\n",
    "\n",
    "```python\n",
    "from sklearn.preprocessing import MinMaxScaler\n",
    "mms = MinMaxScaler()\n",
    "X_train_norm = mms.fit_transform(X_train)\n",
    "X_test_norm = mms.transform(X_test)\n",
    "```"
   ]
  },
  {
   "cell_type": "markdown",
   "metadata": {
    "slideshow": {
     "slide_type": "subslide"
    }
   },
   "source": [
    "## 標準化（2）\n",
    "\n",
    "- `sklearn.preprocessing` 的 `StandardScaler`\n",
    "\n",
    "```python\n",
    "from sklearn.preprocessing import StandardScaler\n",
    "stdsc = StandardScaler()\n",
    "X_train_std = stdsc.fit_transform(X_train)\n",
    "X_test_std = stdsc.transform(X_test)\n",
    "```"
   ]
  }
 ],
 "metadata": {
  "celltoolbar": "Slideshow",
  "kernelspec": {
   "display_name": "Python 3",
   "language": "python",
   "name": "python3"
  },
  "language_info": {
   "codemirror_mode": {
    "name": "ipython",
    "version": 3
   },
   "file_extension": ".py",
   "mimetype": "text/x-python",
   "name": "python",
   "nbconvert_exporter": "python",
   "pygments_lexer": "ipython3",
   "version": "3.5.2"
  }
 },
 "nbformat": 4,
 "nbformat_minor": 1
}
